{
 "cells": [
  {
   "cell_type": "code",
   "execution_count": null,
   "id": "lightweight-passing",
   "metadata": {},
   "outputs": [],
   "source": [
    "from zlib import crc32\n",
    "import numpy as np\n",
    "\n",
    "types = ['regression', 'classification']\n",
    "datasets = {\n",
    "    'regression': [\n",
    "        {'name': 'Servo Data Set', 'url': 'https://archive.ics.uci.edu/ml/datasets/Servo'}, \n",
    "        {'name': 'Forest Fires Data Set', 'url': 'https://archive.ics.uci.edu/ml/datasets/Forest+Fires'},\n",
    "        {'name': 'Boston Housing Data Set', 'url': 'https://scikit-learn.org/stable/modules/generated/sklearn.datasets.load_boston.html#sklearn.datasets.load_boston'}, \n",
    "        {'name': 'Diabetes Data Set', 'url': 'https://scikit-learn.org/stable/modules/generated/sklearn.datasets.load_diabetes.html#sklearn.datasets.load_diabetes'},\n",
    "        {'name': 'Online News Popularity Data Set', 'url': 'https://archive.ics.uci.edu/ml/datasets/Online+News+Popularity'},\n",
    "        {'name': 'Computer Hardware Data Set', 'url': 'https://archive.ics.uci.edu/ml/datasets/Computer+Hardware'},\n",
    "        {'name': 'Auto MPG Data Set', 'url': 'https://archive.ics.uci.edu/ml/datasets/Auto+MPG'}],\n",
    "    'classification': [\n",
    "        {'name': 'Spambase Data Set', 'url': 'https://archive.ics.uci.edu/ml/datasets/Spambase'}, \n",
    "        {'name': 'Wine Data Set', 'url': 'https://scikit-learn.org/stable/modules/generated/sklearn.datasets.load_wine.html#sklearn.datasets.load_wine'}, \n",
    "        {'name': 'Breast Cancer Data Set', 'url': 'https://scikit-learn.org/stable/modules/generated/sklearn.datasets.load_breast_cancer.html#sklearn.datasets.load_breast_cancer'}, \n",
    "        {'name': 'MNIST', 'url': 'http://yann.lecun.com/exdb/mnist/'},\n",
    "        {'name': 'Estimation of obesity levels based on eating habits and physical condition Data Set', 'url': 'https://archive.ics.uci.edu/ml/datasets/Estimation+of+obesity+levels+based+on+eating+habits+and+physical+condition+'},\n",
    "        {'name': 'Dry Bean Dataset', 'url': 'https://archive.ics.uci.edu/ml/datasets/Dry+Bean+Dataset'},\n",
    "        {'name': 'Adult Data Set', 'url': 'https://archive.ics.uci.edu/ml/datasets/Adult'}]}\n",
    "methods = {\n",
    "    'regression': [\n",
    "        'Линейная регрессия', \n",
    "        'Нейронная сеть (Перцептрон)', \n",
    "        'Надарая-Ватсона',\n",
    "        'SVR',\n",
    "        'Решающее дерево (Decision Tree Regression)',\n",
    "        'Случайный лес (Random Forest Regressor)'],\n",
    "    'classification': [\n",
    "        'Логистическая регрессия', \n",
    "        'Нейронная сеть (Перцептрон)', \n",
    "        'k-ближайших соседей',\n",
    "        'Метод потенциальных функций',\n",
    "        'Метод парзеновского окна', \n",
    "        'SVM',\n",
    "        'Решающее дерево (Decision Tree Classifier)',\n",
    "        'Случайный лес (Random Forest Classifier)']}\n",
    "\n",
    "task = dict()\n",
    "task['mail'] = input(prompt='Enter your mail: ')\n",
    "task['id'] = crc32(task['mail'].encode('utf-8'))\n",
    "np.random.seed(task['id'])\n",
    "task['type'] = np.random.choice(types)\n",
    "task['dataset'] = np.random.choice(datasets[task['type']])\n",
    "task['method'] = np.random.choice(methods[task['type']], size=2, replace=False).tolist()\n",
    "\n",
    "task"
   ]
  },
  {
   "cell_type": "code",
   "execution_count": null,
   "id": "statutory-notion",
   "metadata": {},
   "outputs": [],
   "source": []
  }
 ],
 "metadata": {
  "kernelspec": {
   "display_name": "Python 3",
   "language": "python",
   "name": "python3"
  },
  "language_info": {
   "codemirror_mode": {
    "name": "ipython",
    "version": 3
   },
   "file_extension": ".py",
   "mimetype": "text/x-python",
   "name": "python",
   "nbconvert_exporter": "python",
   "pygments_lexer": "ipython3",
   "version": "3.9.1"
  }
 },
 "nbformat": 4,
 "nbformat_minor": 5
}
