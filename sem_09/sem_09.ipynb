{
  "cells": [
    {
      "cell_type": "markdown",
      "metadata": {
        "id": "nEM5jY1ZfsJY"
      },
      "source": [
        "# Логические методы классификации"
      ]
    },
    {
      "cell_type": "code",
      "execution_count": null,
      "metadata": {
        "id": "97vIG5I6fsJa"
      },
      "outputs": [],
      "source": [
        "import warnings\n",
        "warnings.filterwarnings(\"ignore\")"
      ]
    },
    {
      "cell_type": "markdown",
      "metadata": {
        "id": "s3qWY0M5LA6r"
      },
      "source": [
        "## Библиотеки"
      ]
    },
    {
      "cell_type": "code",
      "execution_count": null,
      "metadata": {
        "id": "c_cgM8HpfsJb"
      },
      "outputs": [],
      "source": [
        "import matplotlib.pyplot as plt\n",
        "from matplotlib.image import imread\n",
        "from mpl_toolkits import mplot3d\n",
        "from matplotlib import gridspec\n",
        "from copy import deepcopy\n",
        "from mlxtend.plotting import plot_decision_regions\n",
        "import seaborn as sns\n",
        "import pandas as pd\n",
        "from tqdm.notebook import tqdm\n",
        "from scipy.special import softmax\n",
        "from scipy.spatial.distance import cdist\n",
        "import numpy as np\n",
        "from sklearn import tree\n",
        "import itertools\n",
        "from sklearn.tree import DecisionTreeClassifier, DecisionTreeRegressor\n",
        "from sklearn.ensemble import RandomForestClassifier\n",
        "from sklearn.preprocessing import StandardScaler\n",
        "from sklearn.svm import SVC, SVR\n",
        "from sklearn.linear_model import LogisticRegression\n",
        "from sklearn.metrics import classification_report, roc_auc_score, roc_curve\n",
        "from sklearn.metrics import auc\n",
        "from sklearn.model_selection import KFold, ParameterGrid\n",
        "from sklearn.datasets import make_classification, load_wine, load_boston\n",
        "from sklearn.model_selection import train_test_split\n",
        "from sklearn.decomposition import PCA\n",
        "from torchvision import datasets\n",
        "from torchvision import transforms"
      ]
    },
    {
      "cell_type": "markdown",
      "metadata": {
        "id": "P_sKJ-nyfsJc"
      },
      "source": [
        "## Логические классификаторы"
      ]
    },
    {
      "cell_type": "markdown",
      "metadata": {
        "id": "Rdr0DhYofsJc"
      },
      "source": [
        "Рассмотрим простой логический классификатор вида:\n",
        "$$\n",
        "    R(x) = \\wedge_{{j \\in J}} \\left[a_j \\leq x_j \\leq b_j\\right]\n",
        "$$\n",
        "\n",
        "Далее выполнена простая реализация метода для поиска логических закономерностей. Метод работает на основе алгоритма предложенного на лекции:\n",
        "1. На вход принимается выборка X, Y\n",
        "2. Составляется начальное множество $Z$ правил вида $R(x)$\n",
        "3. Заданое количество раз выполняем случайные локальные модификации правил $R\\in Z$\n",
        "4. На каждом шаге выполняем отсеивание лучших правил на основе accuracy\n",
        "5. После заданого количества шагов выбираем лучший критерий на основе accuracy\n",
        "\n",
        "P.S. В качестве домашнего задания будет улучшить алгоритм из семинара: рассмотреть критерий Джини вместо accuracy."
      ]
    },
    {
      "cell_type": "code",
      "execution_count": null,
      "metadata": {
        "id": "CLh4IWkKfsJd"
      },
      "outputs": [],
      "source": [
        "class LogicClassifier(object):\n",
        "    def __init__(self, \n",
        "                 solver='random', \n",
        "                 criteria='accuracy', \n",
        "                 sigma=0.1, \n",
        "                 max_number_of_rules=20,\n",
        "                 max_iter=100):\n",
        "        if not isinstance(solver, str):\n",
        "            raise ValueError('solver must be str format')\n",
        "        if solver not in {'random'}:\n",
        "            raise ValueError('solver={} is not specified'.format(solver))\n",
        "            \n",
        "        if not isinstance(criteria, str):\n",
        "            raise ValueError('criteria must be str format')\n",
        "        if criteria not in {'accuracy'}:\n",
        "            raise ValueError('criteria={} is not specified'.format(criteria))\n",
        "            \n",
        "        if not isinstance(sigma, float):\n",
        "            raise ValueError('sigma must be float format')\n",
        "        if not isinstance(max_number_of_rules, int):\n",
        "            raise ValueError('max_number_of_rules must be int format')\n",
        "        if not isinstance(max_iter, int):\n",
        "            raise ValueError('max_iter must be int format')\n",
        "            \n",
        "        self.solver = solver\n",
        "        self.criteria = criteria\n",
        "        self.sigma = sigma\n",
        "        self.max_number_of_rules = max_number_of_rules\n",
        "        self.max_iter = max_iter\n",
        "        \n",
        "        self.R = ([], [], [])\n",
        "        \n",
        "    def _R(self, X, Js, As, Bs):\n",
        "        pred = np.ones(X.shape[0])\n",
        "        for j, a, b in zip(Js, As, Bs):\n",
        "            pred *= ((X[:, j] <= b) * (X[:, j] >= a))\n",
        "            \n",
        "        return pred\n",
        "            \n",
        "    def _score(self, X, Y, Js, As, Bs):\n",
        "        pred = self._R(X, Js, As, Bs)\n",
        "        if self.criteria == 'accuracy':\n",
        "            return np.mean(pred == Y)\n",
        "    \n",
        "    def _prune_Z(self, X, Y, Z):\n",
        "        return sorted(\n",
        "            Z, \n",
        "            key=lambda z: self._score(\n",
        "                X, Y, *z))[::-1][:self.max_number_of_rules]\n",
        "        \n",
        "    def _random(self, X, Y):\n",
        "        Z = [([i], [np.random.randn()], [np.random.randn()]) \n",
        "             for i in range(X.shape[1])]\n",
        "        \n",
        "        for i in range(self.max_iter):\n",
        "            new_Z = []\n",
        "            for z in Z:\n",
        "                new_z = deepcopy(z)\n",
        "                modif_type = np.random.randint(0, 4)\n",
        "                if modif_type == 0:\n",
        "                    if len(new_z[0]):\n",
        "                        j = np.random.randint(0, len(new_z[0]))\n",
        "                        new_z[1][j] += np.square(self.sigma)*np.random.randn()\n",
        "                elif modif_type == 1:\n",
        "                    if len(new_z[0]):\n",
        "                        j = np.random.randint(0, len(new_z[0]))\n",
        "                        new_z[2][j] += np.square(self.sigma)*np.random.randn()\n",
        "                elif modif_type == 2:\n",
        "                    if len(new_z[0]) < X.shape[1]:\n",
        "                        j = np.random.choice(\n",
        "                            list(\n",
        "                                set(list(range(X.shape[1]))) - set(new_z[0])))\n",
        "                        new_z[0].append(j)\n",
        "                        new_z[1].append(np.random.randn())\n",
        "                        new_z[2].append(np.random.randn())\n",
        "                elif modif_type == 3:\n",
        "                    if len(new_z[0]):\n",
        "                        j = np.random.choice(list(range(len(new_z[0]))))\n",
        "                        del new_z[0][j]\n",
        "                        del new_z[1][j]\n",
        "                        del new_z[2][j]\n",
        "                        \n",
        "                new_Z.append(new_z)\n",
        "                \n",
        "            Z.extend(new_Z)\n",
        "            Z = self._prune_Z(X, Y, Z)\n",
        "              \n",
        "        self.R = sorted(\n",
        "            Z, \n",
        "            key=lambda z: self._score(X, Y, *z))[::-1][0]\n",
        "        \n",
        "        return self\n",
        "    \n",
        "    def __str__(self):\n",
        "        return self.__repr__()\n",
        "    \n",
        "    def __repr__(self):\n",
        "        other = ' AND '.join(\n",
        "            ['{} < x_{} < {}'.format(\n",
        "                round(self.R[1][j], 2), self.R[0][j], round(self.R[2][j], 2)) \n",
        "             for j in range(len(self.R[0]))])\n",
        "        if other:\n",
        "            ret = 'R(x) = ' + other\n",
        "        else:\n",
        "            ret = 'R(x) = 1'\n",
        "        return ret\n",
        "    \n",
        "    def fit(self, X, Y, seed=None):\n",
        "        if seed is not None:\n",
        "            np.random.seed(seed)\n",
        "        if self.solver == 'random':\n",
        "            return self._random(X, Y)\n",
        "        \n",
        "    def predict(self, X):\n",
        "        return self._R(X, *self.R)\n",
        "    \n",
        "    def score(self, X, Y):\n",
        "        return self._score(X, Y, *self.R)"
      ]
    },
    {
      "cell_type": "markdown",
      "metadata": {
        "id": "Xb8N5aDDfsJe"
      },
      "source": [
        "### Простые Гаусианы"
      ]
    },
    {
      "cell_type": "code",
      "execution_count": null,
      "metadata": {
        "id": "X5m4jDv6fsJf"
      },
      "outputs": [],
      "source": [
        "np.random.seed(0)\n",
        "l = 150\n",
        "n = 2\n",
        "X1 = np.array([[-1,-1] + [0]*(n-2)]) + 0.6*np.random.randn(l, n)\n",
        "X2 = np.array([[1,1] + [0]*(n-2)]) + 0.6*np.random.randn(l, n)\n",
        "\n",
        "X = np.vstack([X1, X2])\n",
        "Y = np.hstack([[0]*l, [1]*l])\n",
        "\n",
        "X_train, X_test, Y_train, Y_test = train_test_split(X, Y, \n",
        "                                                    test_size=50, \n",
        "                                                    random_state=0)"
      ]
    },
    {
      "cell_type": "code",
      "execution_count": null,
      "metadata": {
        "id": "xzst-_7vfsJf"
      },
      "outputs": [],
      "source": [
        "cols = ['blue', 'red', 'green']\n",
        "fig, gs = plt.figure(figsize=(9,4)), gridspec.GridSpec(1, 2)\n",
        "\n",
        "ax = []\n",
        "for i in range(2):\n",
        "    ax.append(fig.add_subplot(gs[i]))\n",
        "    ax[i].set_xlim((-2.5, 2.5)), ax[i].set_ylim((-2.5, 2.5))\n",
        "\n",
        "for k in np.unique(Y):\n",
        "    ax[0].plot(X[Y==k,0], X[Y==k,1], 'o', \n",
        "               label='класс {}'.format(k), color=cols[k])\n",
        "    ax[1].plot(X[Y==k,0], X[Y==k,1], 'o', \n",
        "               label='класс {}'.format(k), color=cols[k])\n",
        "\n",
        "ax[0].legend(loc='best'), ax[1].legend(loc='best')\n",
        "plt.show()"
      ]
    },
    {
      "cell_type": "code",
      "execution_count": null,
      "metadata": {
        "id": "1QOpsuFdfsJg"
      },
      "outputs": [],
      "source": [
        "model = LogicClassifier(max_iter=1000)\n",
        "print(model)\n",
        "print(model.fit(X_train, Y_train, seed=0))\n",
        "print(model.score(X_train, Y_train), model.score(X_test, Y_test))\n",
        "print(classification_report(Y_test, model.predict(X_test)))"
      ]
    },
    {
      "cell_type": "code",
      "execution_count": null,
      "metadata": {
        "id": "-WFTiAoafsJg"
      },
      "outputs": [],
      "source": [
        "fig, gs = plt.figure(figsize=(9,4)), gridspec.GridSpec(1, 2)\n",
        "\n",
        "ax = []\n",
        "for i in range(2):\n",
        "    ax.append(fig.add_subplot(gs[i]))\n",
        "\n",
        "plot_decision_regions(X_train, Y_train, model, ax=ax[0])\n",
        "plot_decision_regions(X_test, Y_test, model, ax=ax[1])\n",
        "\n",
        "plt.show()"
      ]
    },
    {
      "cell_type": "markdown",
      "metadata": {
        "id": "3ZoAuEZQfsJg"
      },
      "source": [
        "### Более сложная выборка"
      ]
    },
    {
      "cell_type": "code",
      "execution_count": null,
      "metadata": {
        "id": "eW5-L5KjfsJh"
      },
      "outputs": [],
      "source": [
        "X, Y = make_classification(n_samples=150, n_features=2, \n",
        "                           n_informative=2, n_classes=2, \n",
        "                           n_redundant=0,\n",
        "                           n_clusters_per_class=1,\n",
        "                           random_state=0)\n",
        "\n",
        "X_train, X_test, Y_train, Y_test = train_test_split(X, Y, \n",
        "                                                    test_size=50, \n",
        "                                                    random_state=0)"
      ]
    },
    {
      "cell_type": "code",
      "execution_count": null,
      "metadata": {
        "id": "VjqRY5qcfsJh"
      },
      "outputs": [],
      "source": [
        "cols = ['blue', 'red', 'green']\n",
        "fig, gs = plt.figure(figsize=(9,4)), gridspec.GridSpec(1, 2)\n",
        "\n",
        "ax = []\n",
        "for i in range(2):\n",
        "    ax.append(fig.add_subplot(gs[i]))\n",
        "    ax[i].set_xlim((-2.5, 2.5)), ax[i].set_ylim((-2.5, 2.5))\n",
        "\n",
        "for k in np.unique(Y):\n",
        "    ax[0].plot(X[Y==k,0], X[Y==k,1], 'o', \n",
        "               label='класс {}'.format(k), color=cols[k])\n",
        "    ax[1].plot(X[Y==k,0], X[Y==k,1], 'o', \n",
        "               label='класс {}'.format(k), color=cols[k])\n",
        "\n",
        "ax[0].legend(loc='best'), ax[1].legend(loc='best')\n",
        "plt.show()"
      ]
    },
    {
      "cell_type": "code",
      "execution_count": null,
      "metadata": {
        "id": "eIzHD3LCfsJh"
      },
      "outputs": [],
      "source": [
        "model = LogicClassifier(max_iter=1000)\n",
        "print(model)\n",
        "print(model.fit(X_train, Y_train, seed=0))\n",
        "print(model.score(X_train, Y_train), model.score(X_test, Y_test))\n",
        "print(classification_report(Y_test, model.predict(X_test)))"
      ]
    },
    {
      "cell_type": "code",
      "execution_count": null,
      "metadata": {
        "id": "hdQI5svjfsJh"
      },
      "outputs": [],
      "source": [
        "fig, gs = plt.figure(figsize=(9,4)), gridspec.GridSpec(1, 2)\n",
        "\n",
        "ax = []\n",
        "for i in range(2):\n",
        "    ax.append(fig.add_subplot(gs[i]))\n",
        "\n",
        "plot_decision_regions(X_train, Y_train, model, ax=ax[0])\n",
        "plot_decision_regions(X_test, Y_test, model, ax=ax[1])\n",
        "\n",
        "plt.show()"
      ]
    },
    {
      "cell_type": "markdown",
      "metadata": {
        "id": "qd8CHS_ifsJi"
      },
      "source": [
        "### Выборка Wine"
      ]
    },
    {
      "cell_type": "code",
      "execution_count": null,
      "metadata": {
        "id": "ua28X2SyfsJi"
      },
      "outputs": [],
      "source": [
        "data = load_wine()\n",
        "X = data['data']\n",
        "Y = data['target']\n",
        "\n",
        "X = X[Y < 2]\n",
        "Y = Y[Y < 2]\n",
        "\n",
        "X_train, X_test, Y_train, Y_test = train_test_split(X, Y, \n",
        "                                                    test_size=30, \n",
        "                                                    random_state=0)"
      ]
    },
    {
      "cell_type": "code",
      "execution_count": null,
      "metadata": {
        "id": "FnfDdZj0fsJi"
      },
      "outputs": [],
      "source": [
        "model = LogicClassifier(max_iter=1000)\n",
        "print(model)\n",
        "print(model.fit(X_train, Y_train, seed=0))\n",
        "print(model.score(X_train, Y_train), model.score(X_test, Y_test))\n",
        "print(classification_report(Y_test, model.predict(X_test)))"
      ]
    },
    {
      "cell_type": "markdown",
      "metadata": {
        "id": "-yH6rjpEfsJi"
      },
      "source": [
        "## Критерии Информативности"
      ]
    },
    {
      "cell_type": "markdown",
      "metadata": {
        "id": "Bv6rtm1VfsJj"
      },
      "source": [
        "1. энтропийный критерий:\n",
        "$$\n",
        "IGain\\bigr(p, n\\bigr) = h\\bigr(\\frac{P}{l}\\bigr) - \\frac{p+n}{l}h\\bigr(\\frac{p}{p+n}\\bigr) - \\frac{l-p-n}{l}h\\bigr(\\frac{P-p}{l-p-n}\\bigr),\n",
        "$$\n",
        "где $h\\bigr(q\\bigr)=-q\\log_2 q - \\bigr(1-q\\bigr)\\log_2\\bigr(1-q\\bigr)$.\n",
        "2. критерий Джини:\n",
        "$$\n",
        "IGini\\bigr(p,n\\bigr) = IGain\\bigr(p,n\\bigr), \\quad  h\\bigr(q\\bigr)=4q\\left(1-q\\right)\n",
        "$$\n",
        "3. критерий буcтинга:\n",
        "$$\n",
        "BC\\bigr(p, n\\bigr) = \\sqrt{p} - \\sqrt{n}\n",
        "$$"
      ]
    },
    {
      "cell_type": "markdown",
      "metadata": {
        "id": "xGz-4vnSfsJj"
      },
      "source": [
        "## Ансамблирование правил"
      ]
    },
    {
      "cell_type": "markdown",
      "metadata": {
        "id": "qrRAxbOrfsJj"
      },
      "source": [
        "1. Как видно было раньше, логические правила позволяют выделять одну область.\n",
        "2. Но как было показано выше, в большинстве случаев этого не достаточно.\n",
        "3. Для покрытия нескольких областей используем компизицию логических правил.\n",
        "\n",
        "\n",
        "Простые решения:\n",
        "1. Взвешенное голосование\n",
        "2. Простое голосование\n",
        "3. Решающий список"
      ]
    },
    {
      "cell_type": "markdown",
      "metadata": {
        "id": "C5ucwsVvfsJj"
      },
      "source": [
        "### Простой алгоритм для построения решающего списка\n"
      ]
    },
    {
      "cell_type": "code",
      "execution_count": null,
      "metadata": {
        "id": "DokaVlK-fsJj"
      },
      "outputs": [],
      "source": [
        "np.random.seed(0)\n",
        "l = 150\n",
        "n = 2\n",
        "X1 = np.array([[-1,-1] + [0]*(n-2)]) + 0.6*np.random.randn(l, n)\n",
        "X2 = np.array([[1,1] + [0]*(n-2)]) + 0.6*np.random.randn(l, n)\n",
        "\n",
        "X = np.vstack([X1, X2])\n",
        "Y = np.hstack([[0]*l, [1]*l])\n",
        "\n",
        "X_train, X_test, Y_train, Y_test = train_test_split(X, Y, \n",
        "                                                    test_size=50, \n",
        "                                                    random_state=0)"
      ]
    },
    {
      "cell_type": "code",
      "execution_count": null,
      "metadata": {
        "id": "h36SND8gfsJk"
      },
      "outputs": [],
      "source": [
        "model = LogicClassifier(max_iter=1000)\n",
        "print(model)\n",
        "print(model.fit(X_train, Y_train, seed=0))\n",
        "print(model.score(X_train, Y_train), model.score(X_test, Y_test))\n",
        "print(classification_report(Y_test, model.predict(X_test)))"
      ]
    },
    {
      "cell_type": "code",
      "execution_count": null,
      "metadata": {
        "id": "G7Ui8lhWfsJk"
      },
      "outputs": [],
      "source": [
        "fig, gs = plt.figure(figsize=(9,4)), gridspec.GridSpec(1, 2)\n",
        "\n",
        "ax = []\n",
        "for i in range(2):\n",
        "    ax.append(fig.add_subplot(gs[i]))\n",
        "\n",
        "plot_decision_regions(X_train, Y_train, model, ax=ax[0])\n",
        "plot_decision_regions(X_test, Y_test, model, ax=ax[1])\n",
        "\n",
        "plt.show()"
      ]
    },
    {
      "cell_type": "code",
      "execution_count": null,
      "metadata": {
        "id": "oosAreR4fsJk"
      },
      "outputs": [],
      "source": [
        "class LogicClassifierCommittee(object):\n",
        "    def __init__(self, \n",
        "                 committee_size=3,\n",
        "                 solver='random', \n",
        "                 criteria='accuracy', \n",
        "                 sigma=0.1, \n",
        "                 max_number_of_rules=20,\n",
        "                 max_iter=100):\n",
        "        \n",
        "        if not isinstance(criteria, str):\n",
        "            raise ValueError('criteria must be str format')\n",
        "        if criteria not in {'accuracy'}:\n",
        "            raise ValueError('criteria={} is not specified'.format(criteria))\n",
        "        if not isinstance(committee_size, int):\n",
        "            raise ValueError('committee_size must be int format')\n",
        "        \n",
        "        self.committee_size = committee_size\n",
        "        self.criteria = criteria\n",
        "        \n",
        "        self.models = [LogicClassifier(\n",
        "            solver, criteria, \n",
        "            sigma, max_number_of_rules, \n",
        "            max_iter) for _ in range(self.committee_size)]\n",
        "        self.max_uses = self.committee_size\n",
        "        \n",
        "    def fit(self, X, Y, seed=0):\n",
        "        index_used = set()\n",
        "        for i in range(self.committee_size):\n",
        "            model = self.models[i]\n",
        "            index_can_use = list(set(range(len(X))) - index_used)\n",
        "            if len(index_can_use):\n",
        "                new_X = X[index_can_use, :]\n",
        "                new_Y = Y[index_can_use]\n",
        "\n",
        "                model.fit(new_X, new_Y, seed)\n",
        "\n",
        "                index_used |= set(np.where(model.predict(X))[0])\n",
        "            else:\n",
        "                self.max_uses = i\n",
        "                \n",
        "        return self\n",
        "    \n",
        "    def __str__(self):\n",
        "        return self.__repr__()\n",
        "    \n",
        "    def __repr__(self):\n",
        "        others = []\n",
        "        for i in range(self.max_uses):\n",
        "            model = self.models[i]\n",
        "            other = ' AND '.join(\n",
        "                ['{} < x_{} < {}'.format(\n",
        "                    round(model.R[1][j], 2), \n",
        "                    model.R[0][j], \n",
        "                    round(model.R[2][j], 2)) \n",
        "                 for j in range(len(model.R[0]))])\n",
        "            if other:\n",
        "                others.append('(' + other + ')')\n",
        "        other = ' OR '.join(others)\n",
        "        if other:\n",
        "            ret = 'R(x) = ' + other\n",
        "        else:\n",
        "            ret = 'R(x) = 1'\n",
        "        return ret\n",
        "            \n",
        "    def predict(self, X):\n",
        "        pred = np.zeros(X.shape[0])\n",
        "        \n",
        "        for i in range(self.max_uses):\n",
        "            model = self.models[i]\n",
        "            pred += model.predict(X)\n",
        "            \n",
        "        return np.array(pred > 0, dtype=np.int64)\n",
        "        \n",
        "    def score(self, X, Y):\n",
        "        if self.criteria == 'accuracy':\n",
        "            return np.mean(self.predict(X) == Y)"
      ]
    },
    {
      "cell_type": "code",
      "execution_count": null,
      "metadata": {
        "id": "wMQAw28JfsJl"
      },
      "outputs": [],
      "source": [
        "model = LogicClassifierCommittee(max_iter=1000)\n",
        "print(model)\n",
        "print(model.fit(X_train, Y_train, seed=0))\n",
        "print(model.score(X_train, Y_train), model.score(X_test, Y_test))\n",
        "print(classification_report(Y_test, model.predict(X_test)))"
      ]
    },
    {
      "cell_type": "code",
      "execution_count": null,
      "metadata": {
        "id": "IxeJKFs3fsJl"
      },
      "outputs": [],
      "source": [
        "fig, gs = plt.figure(figsize=(9,4)), gridspec.GridSpec(1, 2)\n",
        "\n",
        "ax = []\n",
        "for i in range(2):\n",
        "    ax.append(fig.add_subplot(gs[i]))\n",
        "\n",
        "plot_decision_regions(X_train, Y_train, model, ax=ax[0])\n",
        "plot_decision_regions(X_test, Y_test, model, ax=ax[1])\n",
        "\n",
        "plt.show()"
      ]
    },
    {
      "cell_type": "markdown",
      "metadata": {
        "id": "R9DrrVQMfsJl"
      },
      "source": [
        "## Деревья"
      ]
    },
    {
      "cell_type": "code",
      "execution_count": null,
      "metadata": {
        "id": "rP1PiMzVfsJl"
      },
      "outputs": [],
      "source": [
        "np.random.seed(0)\n",
        "l = 150\n",
        "n = 2\n",
        "X1 = np.array([[-1,-1] + [0]*(n-2)]) + 0.6*np.random.randn(l, n)\n",
        "X2 = np.array([[1,1] + [0]*(n-2)]) + 0.6*np.random.randn(l, n)\n",
        "\n",
        "X = np.vstack([X1, X2])\n",
        "Y = np.hstack([[0]*l, [1]*l])\n",
        "\n",
        "X_train, X_test, Y_train, Y_test = train_test_split(X, Y, \n",
        "                                                    test_size=50, \n",
        "                                                    random_state=0)"
      ]
    },
    {
      "cell_type": "code",
      "execution_count": null,
      "metadata": {
        "id": "tqhYaEwgfsJl"
      },
      "outputs": [],
      "source": [
        "model = DecisionTreeClassifier(max_depth=2, random_state=0)\n",
        "model.fit(X_train, Y_train)\n",
        "print(model.score(X_train, Y_train), model.score(X_test, Y_test))\n",
        "print(classification_report(Y_test, model.predict(X_test)))"
      ]
    },
    {
      "cell_type": "code",
      "execution_count": null,
      "metadata": {
        "id": "WqBaZpckfsJm"
      },
      "outputs": [],
      "source": [
        "fig, gs = plt.figure(figsize=(9,4)), gridspec.GridSpec(1, 2)\n",
        "\n",
        "ax = []\n",
        "for i in range(2):\n",
        "    ax.append(fig.add_subplot(gs[i]))\n",
        "\n",
        "plot_decision_regions(X_train, Y_train, model, ax=ax[0])\n",
        "plot_decision_regions(X_test, Y_test, model, ax=ax[1])\n",
        "\n",
        "plt.show()"
      ]
    },
    {
      "cell_type": "code",
      "execution_count": null,
      "metadata": {
        "id": "MHLXrK8ofsJm"
      },
      "outputs": [],
      "source": [
        "text_representation = tree.export_text(model)\n",
        "print(text_representation)"
      ]
    },
    {
      "cell_type": "code",
      "execution_count": null,
      "metadata": {
        "id": "YYrr2x9LfsJm"
      },
      "outputs": [],
      "source": [
        "fig = plt.figure(figsize=(16,10))\n",
        "_ = tree.plot_tree(model, filled=True)"
      ]
    },
    {
      "cell_type": "markdown",
      "metadata": {
        "id": "QzHFZHT_fsJm"
      },
      "source": [
        "### Посмотрим как область зависит от глубины деревьев"
      ]
    },
    {
      "cell_type": "code",
      "execution_count": null,
      "metadata": {
        "id": "6JlcY2unfsJm"
      },
      "outputs": [],
      "source": [
        "models = []\n",
        "for depth in range(1, 5):\n",
        "    model = DecisionTreeClassifier(max_depth=depth, random_state=0)\n",
        "    model.fit(X_train, Y_train)\n",
        "    models.append(model)"
      ]
    },
    {
      "cell_type": "code",
      "execution_count": null,
      "metadata": {
        "id": "Zm07i_f-fsJm"
      },
      "outputs": [],
      "source": [
        "fig, gs = plt.figure(figsize=(19, 4)), gridspec.GridSpec(1, 4)\n",
        "\n",
        "ax = []\n",
        "for i in range(4):\n",
        "    ax.append(fig.add_subplot(gs[i]))\n",
        "\n",
        "for i, model in enumerate(models):\n",
        "    plot_decision_regions(X_test, Y_test, model, ax=ax[i])\n",
        "\n",
        "plt.show()"
      ]
    },
    {
      "cell_type": "markdown",
      "metadata": {
        "id": "C2zrNLZJfsJn"
      },
      "source": [
        "### Выборка Wine"
      ]
    },
    {
      "cell_type": "code",
      "execution_count": null,
      "metadata": {
        "id": "z_3GLKbSfsJn"
      },
      "outputs": [],
      "source": [
        "data = load_wine()\n",
        "X = data['data']\n",
        "Y = data['target']\n",
        "\n",
        "X_train, X_test, Y_train, Y_test = train_test_split(X, Y, \n",
        "                                                    test_size=30, \n",
        "                                                    random_state=0)"
      ]
    },
    {
      "cell_type": "code",
      "execution_count": null,
      "metadata": {
        "id": "uWuSsUwHfsJn"
      },
      "outputs": [],
      "source": [
        "model = DecisionTreeClassifier(max_depth=2, random_state=0)\n",
        "model.fit(X_train, Y_train)\n",
        "print(model.score(X_train, Y_train), model.score(X_test, Y_test))\n",
        "print(classification_report(Y_test, model.predict(X_test)))"
      ]
    },
    {
      "cell_type": "code",
      "execution_count": null,
      "metadata": {
        "id": "byx7B_UdfsJn"
      },
      "outputs": [],
      "source": [
        "fig = plt.figure(figsize=(16,10))\n",
        "_ = tree.plot_tree(model, filled=True)"
      ]
    },
    {
      "cell_type": "markdown",
      "metadata": {
        "id": "bVt5GC3jfsJn"
      },
      "source": [
        "### Выборка Boston"
      ]
    },
    {
      "cell_type": "code",
      "execution_count": null,
      "metadata": {
        "id": "AZDx7Yl8fsJo"
      },
      "outputs": [],
      "source": [
        "data = load_boston()\n",
        "X = data['data']\n",
        "Y = data['target']\n",
        "\n",
        "X_train, X_test, Y_train, Y_test = train_test_split(X, Y, \n",
        "                                                    test_size=30, \n",
        "                                                    random_state=0)"
      ]
    },
    {
      "cell_type": "code",
      "execution_count": null,
      "metadata": {
        "id": "cVoZilI-fsJo"
      },
      "outputs": [],
      "source": [
        "model = DecisionTreeRegressor(max_depth=3, random_state=0)\n",
        "model.fit(X_train, Y_train)\n",
        "print(model.score(X_train, Y_train), model.score(X_test, Y_test))"
      ]
    },
    {
      "cell_type": "code",
      "execution_count": null,
      "metadata": {
        "id": "39ztjj70fsJo"
      },
      "outputs": [],
      "source": [
        "fig = plt.figure(figsize=(16,10))\n",
        "_ = tree.plot_tree(model, filled=True)"
      ]
    },
    {
      "cell_type": "markdown",
      "metadata": {
        "id": "7tNDss0SfsJo"
      },
      "source": [
        "### Пример на синтетичеких одномерных данных"
      ]
    },
    {
      "cell_type": "code",
      "execution_count": null,
      "metadata": {
        "id": "eXx4MkHzfsJo"
      },
      "outputs": [],
      "source": [
        "np.random.seed(0)\n",
        "l = 200\n",
        "beta = 1.\n",
        "\n",
        "X = np.linspace(-10, 10, l).reshape([-1, 1])\n",
        "w = np.array([1., 1., 4.,])\n",
        "Y = w[0] + w[1]*X[:, 0] + w[2]*np.sin(X[:, 0]) + beta*np.random.randn(l)\n",
        "\n",
        "X_train, X_test, Y_train, Y_test = train_test_split(X, Y, test_size=50)"
      ]
    },
    {
      "cell_type": "code",
      "execution_count": null,
      "metadata": {
        "id": "v_OKr_8EfsJp"
      },
      "outputs": [],
      "source": [
        "plt.plot(X_train[:, 0], Y_train, '.')\n",
        "\n",
        "plt.grid()\n",
        "plt.show()"
      ]
    },
    {
      "cell_type": "code",
      "execution_count": null,
      "metadata": {
        "id": "l5Vtt58QfsJp"
      },
      "outputs": [],
      "source": [
        "model = DecisionTreeRegressor(max_depth=3, random_state=0)\n",
        "model.fit(X_train, Y_train)\n",
        "print(model.score(X_train, Y_train), model.score(X_test, Y_test))"
      ]
    },
    {
      "cell_type": "code",
      "execution_count": null,
      "metadata": {
        "id": "JHmJOUkzfsJp"
      },
      "outputs": [],
      "source": [
        "fig = plt.figure(figsize=(16,10))\n",
        "_ = tree.plot_tree(model, filled=True)"
      ]
    },
    {
      "cell_type": "code",
      "execution_count": null,
      "metadata": {
        "id": "2Vx-Ov9afsJp"
      },
      "outputs": [],
      "source": [
        "plt.plot(X_train[:, 0], Y_train, '.')\n",
        "\n",
        "x = np.linspace(-10, 10, 2000)\n",
        "\n",
        "plt.plot(x, model.predict(x.reshape(-1,1)))\n",
        "\n",
        "plt.grid()\n",
        "plt.show()"
      ]
    },
    {
      "cell_type": "markdown",
      "metadata": {
        "id": "THH6VvFLfsJp"
      },
      "source": [
        "### Зависимость от глубины дерева"
      ]
    },
    {
      "cell_type": "code",
      "execution_count": null,
      "metadata": {
        "id": "IkHoyFV6fsJp"
      },
      "outputs": [],
      "source": [
        "models = []\n",
        "for i in [3, 5, 9]:\n",
        "    model = DecisionTreeRegressor(max_depth=i, random_state=0)\n",
        "    model.fit(X_train, Y_train)\n",
        "    models.append(model)"
      ]
    },
    {
      "cell_type": "code",
      "execution_count": null,
      "metadata": {
        "id": "h6MwGOYEfsJp"
      },
      "outputs": [],
      "source": [
        "plt.figure(figsize=(20,10))\n",
        "plt.plot(X_train[:, 0], Y_train, '.', label='train')\n",
        "\n",
        "x = np.linspace(-10, 10, 2000)\n",
        "for model in models:\n",
        "    plt.plot(x, model.predict(x.reshape(-1,1)), label=str(model.get_depth()))\n",
        "\n",
        "plt.legend(loc='best')\n",
        "plt.grid()\n",
        "plt.show()"
      ]
    },
    {
      "cell_type": "markdown",
      "metadata": {
        "id": "LOZaf3NWfsJq"
      },
      "source": [
        "### Случайный лес\n",
        "В данном случае мы говорим о множестве решающих деревьев (отсюда и слово лес).\n",
        "1. Для задачи классификации в листях деревьев лежит класс.\n",
        "2. Для задачи регресии в листях лежит среднее значение ответов для всех объектов.\n",
        "\n",
        "Случайный лес является ансамблем деревьев:\n",
        "1. Для каждого дерева выбирается произвольное подмножество объектов.\n",
        "2. Строится каждое дерево не завиимо друг от друга."
      ]
    },
    {
      "cell_type": "code",
      "execution_count": null,
      "metadata": {
        "id": "JXsc1b0sfsJq"
      },
      "outputs": [],
      "source": [
        "data = load_wine()\n",
        "X = data['data']\n",
        "Y = data['target']\n",
        "\n",
        "X_train, X_test, Y_train, Y_test = train_test_split(X, Y, \n",
        "                                                    test_size=30, \n",
        "                                                    random_state=0)"
      ]
    },
    {
      "cell_type": "code",
      "execution_count": null,
      "metadata": {
        "id": "5B-6DCMifsJq"
      },
      "outputs": [],
      "source": [
        "model = RandomForestClassifier(n_estimators=6, max_depth=2, random_state=0)\n",
        "model.fit(X_train, Y_train)\n",
        "print(model.score(X_train, Y_train), model.score(X_test, Y_test))\n",
        "print(classification_report(Y_test, model.predict(X_test)))"
      ]
    },
    {
      "cell_type": "markdown",
      "metadata": {
        "id": "y9apm486fsJq"
      },
      "source": [
        "### Зависимость качества от числа деревьев"
      ]
    },
    {
      "cell_type": "code",
      "execution_count": null,
      "metadata": {
        "id": "93dqNypEfsJq"
      },
      "outputs": [],
      "source": [
        "models = []\n",
        "scores_train = []\n",
        "scores_test = []\n",
        "n_estimators = list(range(1, 20))\n",
        "for estimators in n_estimators:\n",
        "    model = RandomForestClassifier(n_estimators=estimators, random_state=0)\n",
        "    model.fit(X_train, Y_train)\n",
        "    models.append(model)\n",
        "    scores_test.append(model.score(X_test, Y_test))\n",
        "    scores_train.append(model.score(X_train, Y_train))"
      ]
    },
    {
      "cell_type": "code",
      "execution_count": null,
      "metadata": {
        "id": "ZahGWn5GfsJq"
      },
      "outputs": [],
      "source": [
        "plt.plot(n_estimators, scores_train, label='train')\n",
        "plt.plot(n_estimators, scores_test, label='test')\n",
        "\n",
        "plt.legend(loc='best')\n",
        "plt.grid()\n",
        "plt.show()"
      ]
    },
    {
      "cell_type": "markdown",
      "metadata": {
        "id": "Hl-zKPCYfsJq"
      },
      "source": [
        "### Зависимость качества от числа признаков при расщеплении"
      ]
    },
    {
      "cell_type": "code",
      "execution_count": null,
      "metadata": {
        "id": "fFVdTrM4fsJr"
      },
      "outputs": [],
      "source": [
        "models = []\n",
        "scores_train = []\n",
        "scores_test = []\n",
        "max_features = list(range(1, 13))\n",
        "for features in max_features:\n",
        "    model = RandomForestClassifier(n_estimators=6, \n",
        "                                   max_features=features, random_state=0)\n",
        "    model.fit(X_train, Y_train)\n",
        "    models.append(model)\n",
        "    scores_test.append(model.score(X_test, Y_test))\n",
        "    scores_train.append(model.score(X_train, Y_train))"
      ]
    },
    {
      "cell_type": "code",
      "execution_count": null,
      "metadata": {
        "id": "MCXP_kH0fsJr"
      },
      "outputs": [],
      "source": [
        "plt.plot(max_features, scores_train, label='train')\n",
        "plt.plot(max_features, scores_test, label='test')\n",
        "\n",
        "plt.legend(loc='best')\n",
        "plt.grid()\n",
        "plt.show()"
      ]
    },
    {
      "cell_type": "markdown",
      "metadata": {
        "id": "4EOpE2lrfsJr"
      },
      "source": [
        "### Зависимость качества от глубины деревьев"
      ]
    },
    {
      "cell_type": "code",
      "execution_count": null,
      "metadata": {
        "id": "g5_m-I-rfsJr"
      },
      "outputs": [],
      "source": [
        "models = []\n",
        "scores_train = []\n",
        "scores_test = []\n",
        "current_depth = []\n",
        "max_depth = list(range(1, 10))\n",
        "for depth in max_depth:\n",
        "    model = RandomForestClassifier(n_estimators=6,\n",
        "        max_depth=depth, random_state=0)\n",
        "    model.fit(X_train, Y_train)\n",
        "    models.append(model)\n",
        "    scores_test.append(model.score(X_test, Y_test))\n",
        "    scores_train.append(model.score(X_train, Y_train))\n",
        "    current_depth.append(model.estimators_[0].get_depth()/depth)"
      ]
    },
    {
      "cell_type": "code",
      "execution_count": null,
      "metadata": {
        "id": "C20WMuyDfsJr"
      },
      "outputs": [],
      "source": [
        "plt.plot(max_depth, scores_train, label='train')\n",
        "plt.plot(max_depth, scores_test, label='test')\n",
        "plt.plot(max_depth, current_depth, label='real depth')\n",
        "\n",
        "plt.legend(loc='best')\n",
        "plt.grid()\n",
        "plt.show()"
      ]
    },
    {
      "cell_type": "markdown",
      "metadata": {
        "id": "cDoVCulxfsJr"
      },
      "source": [
        "### Замечания по случайному лесу\n",
        "1. Число деревьев нужно подбирать, так как большое количество деревьев увеличивает качество на обучении, но на валидации, может быть меньше или не меняться вовсе, но время обучения возрастает.\n",
        "2. Важным параметров является число признаков, которые участвуют в построении правила разделения. Для классификации обычно используется $\\sqrt{n}$, а для регрессии $\\frac{n}{3}$. Параметр является важным, так как при его увеличении деревья становятся похожими друг на друга.\n",
        "3. Параметр глубины деревьев можно не подбирать, так как деревья сами настроивают эту высоту. Но если выборка слишком шумная, от рекомендуется не использовать слишком глубокие деревья.\n",
        "\n",
        "P.S все параметры нужно подбирать на кросс-валидации."
      ]
    }
  ],
  "metadata": {
    "celltoolbar": "Slideshow",
    "kernelspec": {
      "display_name": "Python 3",
      "language": "python",
      "name": "python3"
    },
    "language_info": {
      "codemirror_mode": {
        "name": "ipython",
        "version": 3
      },
      "file_extension": ".py",
      "mimetype": "text/x-python",
      "name": "python",
      "nbconvert_exporter": "python",
      "pygments_lexer": "ipython3",
      "version": "3.9.2"
    },
    "colab": {
      "name": "sem_09.ipynb",
      "provenance": []
    }
  },
  "nbformat": 4,
  "nbformat_minor": 0
}