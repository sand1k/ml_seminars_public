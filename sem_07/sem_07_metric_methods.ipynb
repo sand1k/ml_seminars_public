{
 "cells": [
  {
   "cell_type": "markdown",
   "metadata": {
    "slideshow": {
     "slide_type": "slide"
    }
   },
   "source": [
    "# Метрические методы классификации и регрессии"
   ]
  },
  {
   "cell_type": "markdown",
   "metadata": {
    "slideshow": {
     "slide_type": "slide"
    }
   },
   "source": [
    "## Библиотеки"
   ]
  },
  {
   "cell_type": "code",
   "execution_count": null,
   "metadata": {
    "slideshow": {
     "slide_type": "subslide"
    }
   },
   "outputs": [],
   "source": [
    "import matplotlib.pyplot as plt\n",
    "from matplotlib import gridspec\n",
    "import pandas as pd\n",
    "\n",
    "from scipy.special import softmax\n",
    "from scipy.spatial.distance import cdist\n",
    "import numpy as np\n",
    "\n",
    "from sklearn.neighbors import KNeighborsClassifier\n",
    "from sklearn.metrics import classification_report\n",
    "from sklearn.model_selection import KFold, ParameterGrid\n",
    "from sklearn.datasets import make_classification\n",
    "from sklearn.model_selection import train_test_split\n",
    "\n",
    "from mlxtend.plotting import plot_decision_regions\n"
   ]
  },
  {
   "cell_type": "markdown",
   "metadata": {
    "slideshow": {
     "slide_type": "slide"
    }
   },
   "source": [
    "## Датасет"
   ]
  },
  {
   "cell_type": "code",
   "execution_count": null,
   "metadata": {
    "slideshow": {
     "slide_type": "subslide"
    }
   },
   "outputs": [],
   "source": [
    "X, Y = make_classification(n_samples=150, n_features=2, \n",
    "                           n_informative=2, n_classes=3, \n",
    "                           n_redundant=0,\n",
    "                           n_clusters_per_class=1,\n",
    "                           random_state=0)\n",
    "\n",
    "X_train, X_test, Y_train, Y_test = train_test_split(X, Y, \n",
    "                                                    test_size=50, \n",
    "                                                    random_state=0)"
   ]
  },
  {
   "cell_type": "markdown",
   "metadata": {
    "slideshow": {
     "slide_type": "slide"
    }
   },
   "source": [
    "## Метод ближайшего соседа"
   ]
  },
  {
   "cell_type": "code",
   "execution_count": null,
   "metadata": {
    "slideshow": {
     "slide_type": "subslide"
    }
   },
   "outputs": [],
   "source": [
    "model = KNeighborsClassifier(n_neighbors=1)\n",
    "_ = model.fit(X_train, Y_train)"
   ]
  },
  {
   "cell_type": "code",
   "execution_count": null,
   "metadata": {
    "slideshow": {
     "slide_type": "subslide"
    }
   },
   "outputs": [],
   "source": [
    "fig, gs = plt.figure(figsize=(9,4)), gridspec.GridSpec(1, 2)\n",
    "\n",
    "ax = []\n",
    "for i in range(2):\n",
    "    ax.append(fig.add_subplot(gs[i]))\n",
    "\n",
    "\n",
    "plot_decision_regions(X_train, Y_train, model, ax=ax[0])\n",
    "plot_decision_regions(X_test, Y_test, model, ax=ax[1])\n",
    "\n",
    "plt.show()"
   ]
  },
  {
   "cell_type": "markdown",
   "metadata": {
    "slideshow": {
     "slide_type": "slide"
    }
   },
   "source": [
    "## Метод k-ближайших соседей"
   ]
  },
  {
   "cell_type": "code",
   "execution_count": null,
   "metadata": {
    "slideshow": {
     "slide_type": "subslide"
    }
   },
   "outputs": [],
   "source": [
    "models = []\n",
    "for n_neighbors in range(1, 50):\n",
    "    model = KNeighborsClassifier(n_neighbors=n_neighbors)\n",
    "    model.fit(X_train, Y_train)\n",
    "    models.append(model)"
   ]
  },
  {
   "cell_type": "code",
   "execution_count": null,
   "metadata": {
    "slideshow": {
     "slide_type": "subslide"
    }
   },
   "outputs": [],
   "source": [
    "fig, gs = plt.figure(figsize=(19,4)), gridspec.GridSpec(1, 4)\n",
    "\n",
    "ax = []\n",
    "for i in range(4):\n",
    "    ax.append(fig.add_subplot(gs[i]))\n",
    "\n",
    "for i in range(4):\n",
    "    plot_decision_regions(X_test, Y_test, models[i], ax=ax[i])\n",
    "\n",
    "plt.show()"
   ]
  },
  {
   "cell_type": "code",
   "execution_count": null,
   "metadata": {
    "slideshow": {
     "slide_type": "subslide"
    }
   },
   "outputs": [],
   "source": [
    "fig, gs = plt.figure(figsize=(19,4)), gridspec.GridSpec(1, 4)\n",
    "\n",
    "ax = []\n",
    "for i in range(4):\n",
    "    ax.append(fig.add_subplot(gs[i]))\n",
    "\n",
    "for i in range(4):\n",
    "    plot_decision_regions(X_test, Y_test, models[12*i], ax=ax[i])\n",
    "\n",
    "plt.show()"
   ]
  },
  {
   "cell_type": "markdown",
   "metadata": {
    "slideshow": {
     "slide_type": "slide"
    }
   },
   "source": [
    "## Метод k-ближайших соседей с линейно убывающими весами"
   ]
  },
  {
   "cell_type": "code",
   "execution_count": null,
   "metadata": {
    "slideshow": {
     "slide_type": "subslide"
    }
   },
   "outputs": [],
   "source": [
    "def func(distance):\n",
    "    ret = np.ones_like(distance)\n",
    "    k = ret.shape[1]\n",
    "    for i in range(k):\n",
    "        ret[:, i] *= (k-i)/k\n",
    "    return ret"
   ]
  },
  {
   "cell_type": "code",
   "execution_count": null,
   "metadata": {
    "slideshow": {
     "slide_type": "subslide"
    }
   },
   "outputs": [],
   "source": [
    "models = []\n",
    "for n_neighbors in range(1, 51):\n",
    "    model = KNeighborsClassifier(n_neighbors=n_neighbors, \n",
    "                                 weights=func)\n",
    "    model.fit(X_train, Y_train)\n",
    "    models.append(model)"
   ]
  },
  {
   "cell_type": "code",
   "execution_count": null,
   "metadata": {
    "slideshow": {
     "slide_type": "subslide"
    }
   },
   "outputs": [],
   "source": [
    "fig, gs = plt.figure(figsize=(19,4)), gridspec.GridSpec(1, 4)\n",
    "\n",
    "ax = []\n",
    "for i in range(4):\n",
    "    ax.append(fig.add_subplot(gs[i]))\n",
    "\n",
    "for i in range(4):\n",
    "    plot_decision_regions(X_test, Y_test, models[i], ax=ax[i])\n",
    "\n",
    "plt.show()"
   ]
  },
  {
   "cell_type": "code",
   "execution_count": null,
   "metadata": {
    "slideshow": {
     "slide_type": "subslide"
    }
   },
   "outputs": [],
   "source": [
    "fig, gs = plt.figure(figsize=(19,4)), gridspec.GridSpec(1, 4)\n",
    "\n",
    "ax = []\n",
    "for i in range(4):\n",
    "    ax.append(fig.add_subplot(gs[i]))\n",
    "\n",
    "for i in range(4):\n",
    "    plot_decision_regions(X_test, Y_test, models[12*i], ax=ax[i])\n",
    "\n",
    "plt.show()"
   ]
  },
  {
   "cell_type": "markdown",
   "metadata": {
    "slideshow": {
     "slide_type": "slide"
    }
   },
   "source": [
    "## Метод окна Парзена\n",
    "\n",
    "См. [метод парзеновского окна](http://www.machinelearning.ru/wiki/index.php?title=%D0%9C%D0%B5%D1%82%D0%BE%D0%B4_%D0%BF%D0%B0%D1%80%D0%B7%D0%B5%D0%BD%D0%BE%D0%B2%D1%81%D0%BA%D0%BE%D0%B3%D0%BE_%D0%BE%D0%BA%D0%BD%D0%B0) на machinelearning.ru."
   ]
  },
  {
   "cell_type": "code",
   "execution_count": null,
   "metadata": {
    "slideshow": {
     "slide_type": "subslide"
    }
   },
   "outputs": [],
   "source": [
    "def K(distance, h=0.05):\n",
    "    ret = np.array(distance)/h\n",
    "    return (1 - ret**2) * (np.abs(ret) <= 1)"
   ]
  },
  {
   "cell_type": "code",
   "execution_count": null,
   "metadata": {
    "slideshow": {
     "slide_type": "subslide"
    }
   },
   "outputs": [],
   "source": [
    "fig, gs = plt.figure(figsize=(19,4)), gridspec.GridSpec(1, 4)\n",
    "\n",
    "ax = []\n",
    "for i, h in enumerate([0.05, 0.1, 0.2, 0.5]):\n",
    "    model = KNeighborsClassifier(n_neighbors=len(X_train),\n",
    "                                 weights=lambda x: K(x, h=h))\n",
    "    model.fit(X_train, Y_train)\n",
    "    ax.append(fig.add_subplot(gs[i]))\n",
    "    plot_decision_regions(X_test, Y_test, model, ax=ax[i])\n",
    "\n",
    "plt.show()"
   ]
  },
  {
   "cell_type": "code",
   "execution_count": null,
   "metadata": {
    "slideshow": {
     "slide_type": "subslide"
    }
   },
   "outputs": [],
   "source": [
    "fig, gs = plt.figure(figsize=(19,4)), gridspec.GridSpec(1, 4)\n",
    "\n",
    "ax = []\n",
    "for i, h in enumerate([0.05, 0.2, 1.0, 4.0]):\n",
    "    model = KNeighborsClassifier(n_neighbors=len(X_train),\n",
    "                                 weights=lambda x: K(x, h=h))\n",
    "    model.fit(X_train, Y_train)\n",
    "    ax.append(fig.add_subplot(gs[i]))\n",
    "    plot_decision_regions(X_test, Y_test, model, ax=ax[i])\n",
    "\n",
    "plt.show()"
   ]
  },
  {
   "cell_type": "markdown",
   "metadata": {
    "slideshow": {
     "slide_type": "slide"
    }
   },
   "source": [
    "## Метод потенциальных функций\n",
    "\n",
    "См. раздел [\"Метод потенциальных функций\"](http://www.machinelearning.ru/wiki/index.php?title=%D0%9C%D0%B5%D1%82%D0%BE%D0%B4_%D0%BF%D0%BE%D1%82%D0%B5%D0%BD%D1%86%D0%B8%D0%B0%D0%BB%D1%8C%D0%BD%D1%8B%D1%85_%D1%84%D1%83%D0%BD%D0%BA%D1%86%D0%B8%D0%B9) на machinelearning.ru"
   ]
  },
  {
   "cell_type": "code",
   "execution_count": null,
   "metadata": {
    "slideshow": {
     "slide_type": "subslide"
    }
   },
   "outputs": [],
   "source": [
    "X, Y = make_classification(n_samples=150, n_features=2, \n",
    "                           n_informative=2, n_classes=2, \n",
    "                           n_redundant=0,\n",
    "                           n_clusters_per_class=1,\n",
    "                           random_state=0)\n",
    "\n",
    "X_train, X_test, Y_train, Y_test = train_test_split(X, Y, \n",
    "                                                    test_size=50, \n",
    "                                                    random_state=0)"
   ]
  },
  {
   "cell_type": "markdown",
   "metadata": {
    "slideshow": {
     "slide_type": "subslide"
    }
   },
   "source": [
    "### Реализации метода\n",
    "Релазиция данного метода в стандартных пакетах отсутствует, поэтому выполним простую реалзизацю."
   ]
  },
  {
   "cell_type": "code",
   "execution_count": null,
   "metadata": {
    "slideshow": {
     "slide_type": "subslide"
    }
   },
   "outputs": [],
   "source": [
    "class PFM(object):\n",
    "    def __init__(self, kernel=None):\n",
    "        self.X, self.Y, self.gams = None, None, None\n",
    "        self.kernel = lambda x: np.ones_like(x)\n",
    "        if kernel is not None:\n",
    "            self.kernel = kernel\n",
    "\n",
    "    def scores(self, X):\n",
    "        features = self.gams * self.kernel(cdist(X, self.X))\n",
    "        scores = np.vstack(\n",
    "            [np.sum(features.T[np.where(self.Y==0)].T, axis=-1),\n",
    "             np.sum(features.T[np.where(self.Y==1)].T, axis=-1)]).T\n",
    "        return scores\n",
    "\n",
    "    def predict(self, X):\n",
    "        return np.argmax(self.scores(X), axis=-1)\n",
    "    \n",
    "    def fit(self, X, Y, epoch=10):\n",
    "        self.X, self.Y, self.gams = np.array(X), np.array(Y), np.zeros_like(Y)\n",
    "        for _ in range(epoch):\n",
    "            for i, (x, y) in enumerate(zip(self.X, self.Y)):\n",
    "                if self.predict(np.array([x]))[0] != y:\n",
    "                    self.gams[i] += 1"
   ]
  },
  {
   "cell_type": "code",
   "execution_count": null,
   "metadata": {
    "slideshow": {
     "slide_type": "subslide"
    }
   },
   "outputs": [],
   "source": [
    "def K(distance, h=0.05):\n",
    "    ret = np.array(distance)/h\n",
    "    return (1 - ret**2) * (np.abs(ret) <= 1)"
   ]
  },
  {
   "cell_type": "code",
   "execution_count": null,
   "metadata": {
    "slideshow": {
     "slide_type": "subslide"
    }
   },
   "outputs": [],
   "source": [
    "fig, gs = plt.figure(figsize=(19,4)), gridspec.GridSpec(1, 4)\n",
    "\n",
    "ax = []\n",
    "for i, h in enumerate([0.05, 0.1, 0.2, 0.5]):\n",
    "    model = PFM(kernel=lambda x: K(x, h=h))\n",
    "    model.fit(X_train, Y_train)\n",
    "    ax.append(fig.add_subplot(gs[i]))\n",
    "    plot_decision_regions(X_test, Y_test, model, ax=ax[i])\n",
    "\n",
    "plt.show()"
   ]
  },
  {
   "cell_type": "code",
   "execution_count": null,
   "metadata": {
    "slideshow": {
     "slide_type": "subslide"
    }
   },
   "outputs": [],
   "source": [
    "fig, gs = plt.figure(figsize=(19,4)), gridspec.GridSpec(1, 4)\n",
    "\n",
    "ax = []\n",
    "for i, h in enumerate([0.05, 0.2, 1.0, 5.0]):\n",
    "    model = PFM(kernel=lambda x: K(x, h=h))\n",
    "    model.fit(X_train, Y_train)\n",
    "    ax.append(fig.add_subplot(gs[i]))\n",
    "    plot_decision_regions(X_test, Y_test, model, ax=ax[i])\n",
    "\n",
    "plt.show()"
   ]
  },
  {
   "cell_type": "markdown",
   "metadata": {
    "slideshow": {
     "slide_type": "slide"
    }
   },
   "source": [
    "## Отбор эталонных объектов"
   ]
  },
  {
   "cell_type": "markdown",
   "metadata": {
    "slideshow": {
     "slide_type": "subslide"
    }
   },
   "source": [
    "В данной части рассмотрим отбор эталонных объектов для метрических методов классификации.\n",
    "Для начала введем понятия отступа для метрического классификатора:\n",
    "$$\n",
    "M\\bigr(x_i\\bigr) = \\Gamma_{y_i}\\bigr(x_i\\bigr) - \\max_{y\\in Y\\setminus{y_i}}\\Gamma_{y}\\bigr(x_i\\bigr),\n",
    "$$\n",
    "другими словами, отступ показывает насколько истинный класс далеко от другого класса. В случае, если отступ положительный, то предсказание является верным. В случае, если отступ отрицательный, то предсказание является ошибочным."
   ]
  },
  {
   "cell_type": "code",
   "execution_count": null,
   "metadata": {
    "slideshow": {
     "slide_type": "subslide"
    }
   },
   "outputs": [],
   "source": [
    "X, Y = make_classification(n_samples=350, n_features=2, \n",
    "                           n_informative=2, n_classes=2, \n",
    "                           n_redundant=0,\n",
    "                           n_clusters_per_class=1,\n",
    "                           #class_sep=2,\n",
    "                           random_state=0)\n",
    "\n",
    "X_train, X_test, Y_train, Y_test = train_test_split(X, Y, \n",
    "                                                    test_size=150, \n",
    "                                                    random_state=0)"
   ]
  },
  {
   "cell_type": "code",
   "execution_count": null,
   "metadata": {
    "slideshow": {
     "slide_type": "subslide"
    }
   },
   "outputs": [],
   "source": [
    "def K(distance, h=0.2):\n",
    "    ret = np.array(distance)/h\n",
    "    return (1 - ret**2) * (np.abs(ret) <= 1)"
   ]
  },
  {
   "cell_type": "code",
   "execution_count": null,
   "metadata": {
    "slideshow": {
     "slide_type": "subslide"
    }
   },
   "outputs": [],
   "source": [
    "model = PFM(kernel=lambda x: K(x, h=2))\n",
    "model.fit(X_train, Y_train)\n",
    "\n",
    "M = [s[y]-s[y-1] for s, y in zip(model.scores(X_train), Y_train)]\n",
    "M = np.array(sorted(M))"
   ]
  },
  {
   "cell_type": "code",
   "execution_count": null,
   "metadata": {},
   "outputs": [],
   "source": [
    "fig, gs = plt.figure(figsize=(9,4)), gridspec.GridSpec(1, 2)\n",
    "colors=['blue', 'orange']\n",
    "\n",
    "ax = []\n",
    "for i in range(2):\n",
    "    ax.append(fig.add_subplot(gs[i]))\n",
    "    \n",
    "for k in np.unique(Y_train):\n",
    "    ax[1].plot(X_train[Y_train==k, 0], \n",
    "               X_train[Y_train==k, 1], '.', color=colors[k])\n",
    "    \n",
    "plot_decision_regions(X_train, Y_train, model, ax=ax[0])\n",
    "\n",
    "plt.show()"
   ]
  },
  {
   "cell_type": "code",
   "execution_count": null,
   "metadata": {
    "slideshow": {
     "slide_type": "subslide"
    }
   },
   "outputs": [],
   "source": [
    "x = list(range(len(M)))\n",
    "plt.plot(x, M)\n",
    "\n",
    "plt.hlines(0, 0, len(x), color='black')\n",
    "plt.fill_between(x, M, where=M<0, color='red', alpha=0.5)\n",
    "plt.fill_between(x, M, where=M>0, color='green', alpha=0.5)\n",
    "plt.show()"
   ]
  },
  {
   "cell_type": "markdown",
   "metadata": {
    "slideshow": {
     "slide_type": "subslide"
    }
   },
   "source": [
    "### Алгоритм STOLP для отбора эталонных объектов\n",
    "См. [алгоритм STOLP](http://www.machinelearning.ru/wiki/index.php?title=%D0%90%D0%BB%D0%B3%D0%BE%D1%80%D0%B8%D1%82%D0%BC_%D0%A1%D0%A2%D0%9E%D0%9B%D0%9F) на machinelearning.ru."
   ]
  },
  {
   "cell_type": "code",
   "execution_count": null,
   "metadata": {
    "slideshow": {
     "slide_type": "subslide"
    }
   },
   "outputs": [],
   "source": [
    "def STOLP(X, Y, error=10, model=PFM(kernel=lambda x: K(x, h=2))):\n",
    "    X, Y = np.array(X), np.array(Y)\n",
    "\n",
    "    model.fit(X, Y)\n",
    "    M = np.array([s[y] - s[y-1] for s, y in zip(model.scores(X), Y)])\n",
    "    \n",
    "    filt = np.where(M > -1)[0]\n",
    "    X_filt = X[filt]\n",
    "    Y_filt = Y[filt]\n",
    "    model.fit(X_filt, Y_filt)\n",
    "    M = np.array([s[y] - s[y-1] for s, y in zip(model.scores(X_filt), Y_filt)])\n",
    "\n",
    "    Omega = []\n",
    "    valid_idx = np.where(Y_filt==1)[0]\n",
    "    ind = valid_idx[M[valid_idx].argmin()]\n",
    "    Omega.append(ind)\n",
    "    \n",
    "    valid_idx = np.where(Y_filt==0)[0]\n",
    "    ind = valid_idx[M[valid_idx].argmin()]\n",
    "    Omega.append(ind)\n",
    "    \n",
    "    while len(Omega) != len(X_filt):\n",
    "        model.fit(X_filt[Omega], Y_filt[Omega])\n",
    "        M = np.array([s[y] - s[y-1] for s, y in zip(model.scores(X_filt), Y_filt)])\n",
    "        M[Omega] = 10000\n",
    "        if len(np.where(M <= 0)[0]) < error:\n",
    "            break\n",
    "        Omega.append(np.argmin(M))\n",
    "        \n",
    "        # Uncomment for early stopping\n",
    "        #if len(Omega) == 6:\n",
    "        #    break\n",
    "\n",
    "    return model, filt[Omega], X_filt, Y_filt"
   ]
  },
  {
   "cell_type": "code",
   "execution_count": null,
   "metadata": {
    "slideshow": {
     "slide_type": "subslide"
    }
   },
   "outputs": [],
   "source": [
    "model, Omega, X_filt, Y_filt = STOLP(X_train, Y_train)\n",
    "len(Omega)"
   ]
  },
  {
   "cell_type": "code",
   "execution_count": null,
   "metadata": {
    "slideshow": {
     "slide_type": "subslide"
    }
   },
   "outputs": [],
   "source": [
    "M = [s[y] - s[y-1] for s, y in zip(model.scores(X_train), Y_train)]\n",
    "M = np.array(sorted(M))"
   ]
  },
  {
   "cell_type": "code",
   "execution_count": null,
   "metadata": {
    "slideshow": {
     "slide_type": "subslide"
    }
   },
   "outputs": [],
   "source": [
    "x = list(range(len(M)))\n",
    "plt.plot(x, M)\n",
    "\n",
    "plt.hlines(0, 0, len(x), color='black')\n",
    "plt.fill_between(x, M, where=M<0, color='red', alpha=0.5)\n",
    "plt.fill_between(x, M, where=M>0, color='green', alpha=0.5)\n",
    "plt.show()"
   ]
  },
  {
   "cell_type": "code",
   "execution_count": null,
   "metadata": {
    "slideshow": {
     "slide_type": "subslide"
    }
   },
   "outputs": [],
   "source": [
    "fig, gs = plt.figure(figsize=(9,4)), gridspec.GridSpec(1, 2)\n",
    "colors=['blue', 'orange']\n",
    "\n",
    "ax = []\n",
    "for i in range(2):\n",
    "    ax.append(fig.add_subplot(gs[i]))\n",
    "    \n",
    "for k in np.unique(Y_filt):\n",
    "    ax[1].plot(X_filt[Y_filt==k, 0], \n",
    "               X_filt[Y_filt==k, 1], '.', color=colors[k])\n",
    "    \n",
    "for i, ind in reversed(list(enumerate(Omega))):\n",
    "    ax[1].scatter([X_train[ind, 0]], \n",
    "                  [X_train[ind, 1]], color=colors[Y_train[ind]], edgecolor=('red' if i < 2 else None), s=200)\n",
    "    \n",
    "plot_decision_regions(X_train, Y_train, model, ax=ax[0])\n",
    "\n",
    "plt.show()"
   ]
  },
  {
   "cell_type": "markdown",
   "metadata": {
    "slideshow": {
     "slide_type": "slide"
    }
   },
   "source": [
    "## Формула Надарая-Ватсона"
   ]
  },
  {
   "cell_type": "code",
   "execution_count": null,
   "metadata": {
    "slideshow": {
     "slide_type": "subslide"
    }
   },
   "outputs": [],
   "source": [
    "np.random.seed(0)\n",
    "l = 150\n",
    "\n",
    "# Генерация данных\n",
    "x = np.linspace(0, 30, num=l)\n",
    "Y_without_noise = x + 4*np.sin(x)\n",
    "Y = Y_without_noise + 4*np.random.randn(l)\n",
    "\n",
    "# Генерация признаков\n",
    "X = np.vstack([np.ones_like(x), x, np.sin(x)]).T"
   ]
  },
  {
   "cell_type": "code",
   "execution_count": null,
   "metadata": {
    "slideshow": {
     "slide_type": "subslide"
    }
   },
   "outputs": [],
   "source": [
    "plt.plot(x, Y, '.')\n",
    "\n",
    "plt.show()"
   ]
  },
  {
   "cell_type": "code",
   "execution_count": null,
   "metadata": {
    "slideshow": {
     "slide_type": "subslide"
    }
   },
   "outputs": [],
   "source": [
    "class FNV(object):\n",
    "    def __init__(self, kernel=None):\n",
    "        self.X, self.Y = None, None\n",
    "        self.kernel = lambda x: np.ones_like(x)\n",
    "        if kernel is not None:\n",
    "            self.kernel = kernel\n",
    "    \n",
    "    def predict(self, X):\n",
    "        features = np.sum(self.Y*self.kernel(cdist(X, self.X)), axis=-1)\n",
    "        return features/(np.sum(self.kernel(cdist(X, self.X)), axis=-1)+1e-10)\n",
    "    \n",
    "    def fit(self, X, Y):\n",
    "        self.X, self.Y = np.array(X), np.array(Y)"
   ]
  },
  {
   "cell_type": "code",
   "execution_count": null,
   "metadata": {
    "slideshow": {
     "slide_type": "subslide"
    }
   },
   "outputs": [],
   "source": [
    "def K(distance, h=0.2):\n",
    "    ret = np.array(distance)/h\n",
    "    return (1 - ret**2) * (np.abs(ret) <= 1)"
   ]
  },
  {
   "cell_type": "code",
   "execution_count": null,
   "metadata": {
    "slideshow": {
     "slide_type": "subslide"
    }
   },
   "outputs": [],
   "source": [
    "model = FNV(kernel=lambda x: K(x, h=2))\n",
    "model.fit(X, Y)"
   ]
  },
  {
   "cell_type": "code",
   "execution_count": null,
   "metadata": {
    "slideshow": {
     "slide_type": "subslide"
    }
   },
   "outputs": [],
   "source": [
    "plt.plot(x, Y, '.', label='points')\n",
    "plt.plot(x, Y_without_noise, label='real')\n",
    "plt.plot(x, model.predict(X), label='predict')\n",
    "\n",
    "plt.legend(loc='best')\n",
    "plt.show()"
   ]
  },
  {
   "cell_type": "code",
   "execution_count": null,
   "metadata": {
    "slideshow": {
     "slide_type": "subslide"
    }
   },
   "outputs": [],
   "source": [
    "np.random.seed(0)\n",
    "l = 150\n",
    "\n",
    "# Генерация данных\n",
    "x = np.linspace(0, 30, num=l)\n",
    "Y_without_noise = x + 4*np.sin(x)\n",
    "Y = Y_without_noise + 4*np.random.randn(l)\n",
    "\n",
    "# Генерация признаков\n",
    "X = np.array([x]).T"
   ]
  },
  {
   "cell_type": "code",
   "execution_count": null,
   "metadata": {
    "slideshow": {
     "slide_type": "subslide"
    }
   },
   "outputs": [],
   "source": [
    "model = FNV(kernel=lambda x: K(x, h=2))\n",
    "model.fit(X, Y)"
   ]
  },
  {
   "cell_type": "code",
   "execution_count": null,
   "metadata": {
    "slideshow": {
     "slide_type": "subslide"
    }
   },
   "outputs": [],
   "source": [
    "plt.plot(x, Y, '.', label='points')\n",
    "plt.plot(x, Y_without_noise, label='real')\n",
    "plt.plot(x, model.predict(X), label='predict')\n",
    "\n",
    "plt.legend(loc='best')\n",
    "plt.show()"
   ]
  },
  {
   "cell_type": "code",
   "execution_count": null,
   "metadata": {},
   "outputs": [],
   "source": []
  }
 ],
 "metadata": {
  "celltoolbar": "Slideshow",
  "kernelspec": {
   "display_name": "tf25",
   "language": "python",
   "name": "python3"
  },
  "language_info": {
   "codemirror_mode": {
    "name": "ipython",
    "version": 3
   },
   "file_extension": ".py",
   "mimetype": "text/x-python",
   "name": "python",
   "nbconvert_exporter": "python",
   "pygments_lexer": "ipython3",
   "version": "3.9.15"
  },
  "vscode": {
   "interpreter": {
    "hash": "3e00b96764db5b0cdf5cee97e59d5a848d5550a9221e175d3badd9d15aef4d1f"
   }
  }
 },
 "nbformat": 4,
 "nbformat_minor": 4
}
