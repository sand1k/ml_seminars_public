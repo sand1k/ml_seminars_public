{
 "cells": [
  {
   "attachments": {},
   "cell_type": "markdown",
   "metadata": {},
   "source": [
    "# Переход от бинарной классификации к многоклассовой\n",
    "Теперь же остается вопрос: как перейти от задачи бинарной классификации к многоклассовой? В качестве бинарного классификатора рассмотрим все ту же модель алгоритмов: \n",
    "$$\\mathfrak{F}_{bcl} = \\left\\{f\\bigr(\\theta, \\mathbf{x}\\bigr)=\\text{sign}\\bigr(\\theta^{\\mathsf{T}}\\mathbf{x}\\bigr)\\bigr| \\theta \\in \\mathbb{R}^{n} \\right\\}.$$\n",
    "\n",
    "Но знак позволяет отделить только два знака. Какие же есть решения?\n",
    "\n",
    "Рассмотрим вариант перехода, который называется Один против всех (One VS All). Для простоты визуализации рассмотрим пример на синтетических данных. \n",
    "\n",
    "## Генерация синтетической выборки"
   ]
  },
  {
   "cell_type": "code",
   "execution_count": null,
   "metadata": {},
   "outputs": [],
   "source": [
    "import matplotlib.pyplot as plt\n",
    "import numpy as np\n",
    "\n",
    "np.random.seed(0)\n",
    "l = 100\n",
    "n = 2\n",
    "X1 = np.array([[-1,-1]]) + 0.5*np.random.randn(l, n)\n",
    "X2 = np.array([[1,1]]) + 0.5*np.random.randn(l, n)\n",
    "X3 = np.array([[-1,1]]) + 0.5*np.random.randn(l, n)\n",
    "\n",
    "X = np.vstack([X1, X2, X3])\n",
    "y = np.hstack([[0]*l, [1]*l, [2]*l])\n",
    "X"
   ]
  },
  {
   "cell_type": "code",
   "execution_count": null,
   "metadata": {},
   "outputs": [],
   "source": [
    "cols = ['blue', 'red', 'green']\n",
    "\n",
    "# построение точек\n",
    "for k in np.unique(y):\n",
    "    plt.plot(X[y==k,0], X[y==k,1], 'o', label='класс {}'.format(k), color=cols[k])\n",
    "\n",
    "plt.legend(loc='best')\n",
    "plt.show()"
   ]
  },
  {
   "attachments": {},
   "cell_type": "markdown",
   "metadata": {},
   "source": [
    "## Один против всех\n",
    "\n",
    "Данные метод основан на том, что для классификации на $M>2$ классов нужно построить $M$ линейных классификаторов, которые классифицируют $k$-й класс прорив всех остальных классов.\n",
    "\n",
    "Построим $M=3$ классификатора, которые отделяют каждый класс от двух остальных"
   ]
  },
  {
   "cell_type": "code",
   "execution_count": null,
   "metadata": {},
   "outputs": [],
   "source": [
    "from sklearn.linear_model import LogisticRegression\n",
    "\n",
    "models = []\n",
    "model = LogisticRegression(random_state=0, max_iter=2000)#, fit_intercept=False)\n",
    "_ = model.fit(X, np.array(y==0, dtype=np.int64))\n",
    "models.append(model)\n",
    "\n",
    "model = LogisticRegression(random_state=0, max_iter=2000)#, fit_intercept=False)\n",
    "_ = model.fit(X, np.array(y==1, dtype=np.int64))\n",
    "models.append(model)\n",
    "\n",
    "model = LogisticRegression(random_state=0, max_iter=2000)#, fit_intercept=False)\n",
    "_ = model.fit(X, np.array(y==2, dtype=np.int64))\n",
    "models.append(model)"
   ]
  },
  {
   "cell_type": "code",
   "execution_count": null,
   "metadata": {},
   "outputs": [],
   "source": [
    "def get_line(a, b, c=0, x_min=-10, x_max=10):\n",
    "    x1, y1 = (b - c)/a, -1\n",
    "    x2, y2 = -(b + c)/a, 1\n",
    "    \n",
    "    polynomial = np.poly1d(np.polyfit([x1, x2], [y1, y2], 1))\n",
    "    x_axis = np.linspace(x_min, x_max)\n",
    "    y_axis = polynomial(x_axis)\n",
    "    \n",
    "    return x_axis, y_axis"
   ]
  },
  {
   "cell_type": "code",
   "execution_count": null,
   "metadata": {},
   "outputs": [],
   "source": [
    "cols = ['blue', 'red', 'green']\n",
    "plt.xlim((-2.5, 2.5))\n",
    "plt.ylim((-2.5, 2.5))\n",
    "\n",
    "# построение точек\n",
    "for k in np.unique(y):\n",
    "    plt.plot(X[y==k,0], X[y==k,1], 'o', label='класс {}'.format(k), color=cols[k])\n",
    "\n",
    "# построение прямой перпендикулярной к разделяющей\n",
    "for k in np.unique(y):\n",
    "    #print(models[k].coef_, models[k].intercept_)\n",
    "    plt.plot(*get_line(*models[k].coef_[0], models[k].intercept_[0]), linewidth=2, color=cols[k])\n",
    "\n",
    "plt.legend(loc='best')\n",
    "plt.show()"
   ]
  },
  {
   "cell_type": "code",
   "execution_count": null,
   "metadata": {},
   "outputs": [],
   "source": []
  }
 ],
 "metadata": {
  "kernelspec": {
   "display_name": "tf25",
   "language": "python",
   "name": "python3"
  },
  "language_info": {
   "codemirror_mode": {
    "name": "ipython",
    "version": 3
   },
   "file_extension": ".py",
   "mimetype": "text/x-python",
   "name": "python",
   "nbconvert_exporter": "python",
   "pygments_lexer": "ipython3",
   "version": "3.9.15"
  },
  "orig_nbformat": 4,
  "vscode": {
   "interpreter": {
    "hash": "3e00b96764db5b0cdf5cee97e59d5a848d5550a9221e175d3badd9d15aef4d1f"
   }
  }
 },
 "nbformat": 4,
 "nbformat_minor": 2
}
