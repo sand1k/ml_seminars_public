{
 "cells": [
  {
   "cell_type": "markdown",
   "metadata": {
    "slideshow": {
     "slide_type": "slide"
    }
   },
   "source": [
    "# Многомерная линейная регрессия. Метод главных компонент"
   ]
  },
  {
   "cell_type": "code",
   "execution_count": null,
   "metadata": {
    "slideshow": {
     "slide_type": "skip"
    }
   },
   "outputs": [],
   "source": [
    "import warnings\n",
    "warnings.filterwarnings(\"ignore\")"
   ]
  },
  {
   "cell_type": "markdown",
   "metadata": {
    "slideshow": {
     "slide_type": "slide"
    }
   },
   "source": [
    "## Библиотеки"
   ]
  },
  {
   "cell_type": "code",
   "execution_count": null,
   "metadata": {
    "slideshow": {
     "slide_type": "subslide"
    }
   },
   "outputs": [],
   "source": [
    "import matplotlib.pyplot as plt\n",
    "from matplotlib.image import imread\n",
    "from mpl_toolkits import mplot3d\n",
    "from matplotlib import gridspec\n",
    "import seaborn as sns\n",
    "import pandas as pd\n",
    "from tqdm.notebook import tqdm\n",
    "\n",
    "from scipy.special import softmax\n",
    "from scipy.spatial.distance import cdist\n",
    "import numpy as np\n",
    "import torch\n",
    "\n",
    "from sklearn.preprocessing import StandardScaler\n",
    "from sklearn.svm import SVC, SVR\n",
    "from sklearn.linear_model import LogisticRegression\n",
    "from sklearn.metrics import classification_report\n",
    "from sklearn.model_selection import KFold, ParameterGrid\n",
    "from sklearn.datasets import make_classification, make_regression\n",
    "from sklearn.model_selection import train_test_split\n",
    "\n",
    "from sklearn.decomposition import PCA\n",
    "\n",
    "from mlxtend.plotting import plot_decision_regions\n",
    "\n",
    "from torchvision import datasets\n",
    "from torchvision import transforms"
   ]
  },
  {
   "cell_type": "markdown",
   "metadata": {
    "slideshow": {
     "slide_type": "slide"
    }
   },
   "source": [
    "## Многомерная линейная регрессия"
   ]
  },
  {
   "cell_type": "markdown",
   "metadata": {
    "slideshow": {
     "slide_type": "subslide"
    }
   },
   "source": [
    "### Простое решение на основе МНК\n",
    "\n",
    "Тривиально получается, что решение задачи:\n",
    "$$\n",
    "    ||\\mathbf{X}\\mathbf{W} - \\mathbf{Y}||_2^2 \\to \\min_{\\mathbf{W}},\n",
    "$$\n",
    "является матрица:\n",
    "$$\n",
    "    \\mathbf{W}^* = \\left(\\mathbf{X}^{\\mathsf{T}}\\mathbf{X}\\right)^{-1}\\mathbf{X}^{\\mathsf{T}}\\mathbf{Y}\n",
    "$$"
   ]
  },
  {
   "cell_type": "code",
   "execution_count": null,
   "metadata": {
    "slideshow": {
     "slide_type": "subslide"
    }
   },
   "outputs": [],
   "source": [
    "np.random.seed(0)\n",
    "n = 2\n",
    "l = 100\n",
    "K = 2\n",
    "beta= 0.\n",
    "\n",
    "X = np.random.randn(l, n)\n",
    "W_true = np.random.randn(n, K)\n",
    "\n",
    "y = X@W_true + beta*np.random.randn(l, K)\n",
    "y.shape"
   ]
  },
  {
   "cell_type": "code",
   "execution_count": null,
   "metadata": {
    "slideshow": {
     "slide_type": "subslide"
    }
   },
   "outputs": [],
   "source": [
    "W = np.linalg.inv(X.T@X)@X.T@y\n",
    "\n",
    "((W-W_true)**2).mean()"
   ]
  },
  {
   "cell_type": "code",
   "execution_count": null,
   "metadata": {
    "slideshow": {
     "slide_type": "subslide"
    }
   },
   "outputs": [],
   "source": [
    "np.random.seed(0)\n",
    "betas = np.linspace(0, 10, 1000)\n",
    "list_of_errors = []\n",
    "\n",
    "for beta in betas:\n",
    "    y = X@W_true + beta*np.random.randn(l, K)\n",
    "    \n",
    "    W = np.linalg.inv(X.T@X)@X.T@y\n",
    "\n",
    "    list_of_errors.append(((W-W_true)**2).mean())"
   ]
  },
  {
   "cell_type": "code",
   "execution_count": null,
   "metadata": {
    "slideshow": {
     "slide_type": "subslide"
    }
   },
   "outputs": [],
   "source": [
    "plt.plot(betas, list_of_errors)\n",
    "\n",
    "plt.grid()\n",
    "plt.show()"
   ]
  },
  {
   "cell_type": "markdown",
   "metadata": {
    "slideshow": {
     "slide_type": "subslide"
    }
   },
   "source": [
    "### Воспользуемся SVD\n",
    "\n",
    "SVD разложение:\n",
    "$$\n",
    "    \\mathbf{X} = \\mathbf{V}\\mathbf{D}\\mathbf{U}^{\\mathsf{T}}.\n",
    "$$\n",
    "\n",
    "Лемма:\n",
    "$$\n",
    "    \\mathbf{X}^{+} = \\left(\\mathbf{X}^{\\mathsf{T}}\\mathbf{X}\\right)^{\\mathsf{T}}\\mathbf{X}^{\\mathsf{T}} = \\mathbf{U}\\mathbf{D}^{-1}\\mathbf{V}^{\\mathsf{T}}\n",
    "$$\n",
    "\n",
    "\n",
    "Получаем:\n",
    "$$\n",
    "    \\mathbf{W}^* = \\mathbf{U}\\mathbf{D}^{-1}\\mathbf{V}^{\\mathsf{T}}\\mathbf{Y}\n",
    "$$"
   ]
  },
  {
   "cell_type": "code",
   "execution_count": null,
   "metadata": {
    "slideshow": {
     "slide_type": "subslide"
    }
   },
   "outputs": [],
   "source": [
    "np.random.seed(0)\n",
    "n = 2\n",
    "l = 100\n",
    "K = 2\n",
    "beta= 0.\n",
    "\n",
    "X = np.random.randn(l, n)\n",
    "W_true = np.random.randn(n, K)\n",
    "\n",
    "y = X@W_true + beta*np.random.randn(l, K)"
   ]
  },
  {
   "cell_type": "code",
   "execution_count": null,
   "metadata": {
    "slideshow": {
     "slide_type": "subslide"
    }
   },
   "outputs": [],
   "source": [
    "V, d, U = np.linalg.svd(X, full_matrices=False)\n",
    "\n",
    "D = np.eye(len(d))*d\n",
    "lambd = d**2\n",
    "lambd"
   ]
  },
  {
   "cell_type": "code",
   "execution_count": null,
   "metadata": {
    "slideshow": {
     "slide_type": "subslide"
    }
   },
   "outputs": [],
   "source": [
    "np.max(lambd)/np.min(lambd)"
   ]
  },
  {
   "cell_type": "code",
   "execution_count": null,
   "metadata": {
    "slideshow": {
     "slide_type": "subslide"
    }
   },
   "outputs": [],
   "source": [
    "W = (U.T@np.linalg.inv(D)@V.T)@y\n",
    "\n",
    "((W-W_true)**2).mean()"
   ]
  },
  {
   "cell_type": "code",
   "execution_count": null,
   "metadata": {
    "slideshow": {
     "slide_type": "subslide"
    }
   },
   "outputs": [],
   "source": [
    "np.random.seed(0)\n",
    "mus = np.linspace(0.01, 1., 100)\n",
    "betas = np.linspace(0.01, 2., 100)\n",
    "list_of_errors = dict()\n",
    "\n",
    "for beta in betas:\n",
    "    list_of_errors[str(beta)] = dict()\n",
    "    for mu in mus:\n",
    "        lambd_new = np.array(lambd)\n",
    "        lambd_new[0] = mu*lambd_new[1]\n",
    "        d_new = np.sqrt(lambd_new)\n",
    "        D_new = np.eye(len(d_new))*d_new\n",
    "        X_new = V@D_new@U\n",
    "\n",
    "        y = X_new@W_true + beta*np.random.randn(l, K)\n",
    "\n",
    "        W = np.linalg.inv(X_new.T@X_new)@X_new.T@y\n",
    "\n",
    "        list_of_errors[str(beta)][str(mu)] = ((W-W_true)**2).mean()"
   ]
  },
  {
   "cell_type": "code",
   "execution_count": null,
   "metadata": {
    "slideshow": {
     "slide_type": "subslide"
    }
   },
   "outputs": [],
   "source": [
    "BETAS, MUS = np.meshgrid(betas, mus)\n",
    "scores = np.zeros_like(BETAS)\n",
    "for i in range(len(BETAS)):\n",
    "    for j in range(len(BETAS[i])):\n",
    "        scores[i][j] = list_of_errors[str(BETAS[i][j])][str(MUS[i][j])]\n",
    "\n",
    "fig = plt.figure(figsize=(14.0, 10.0))\n",
    "ax = plt.axes(projection='3d')\n",
    "ax.plot_surface(BETAS, MUS, scores, cmap='gist_gray', alpha=0.99)\n",
    "ax.set_xlabel(r'$\\beta$', labelpad= 14), ax.set_ylabel(r'$\\mu$', labelpad= 14)\n",
    "ax.set_zlabel(r'$S$'), ax.set_zlim((0, 0.5)), ax.view_init(30, 150)\n",
    "\n",
    "plt.show()"
   ]
  },
  {
   "cell_type": "code",
   "execution_count": null,
   "metadata": {
    "slideshow": {
     "slide_type": "subslide"
    }
   },
   "outputs": [],
   "source": [
    "np.random.seed(0)\n",
    "mus = np.linspace(0., 1., 100)\n",
    "betas = np.linspace(0., 2., 100)\n",
    "list_of_errors = dict()\n",
    "\n",
    "for beta in betas:\n",
    "    list_of_errors[str(beta)] = dict()\n",
    "    for mu in mus:\n",
    "        lambd_new = np.array(lambd)\n",
    "        lambd_new[1] = mu*lambd_new[0]\n",
    "        d_new = np.sqrt(lambd_new)\n",
    "        D_new = np.eye(len(d_new))*d_new\n",
    "        X_new = V@D_new@U\n",
    "\n",
    "        y = X_new@W_true + beta*np.random.randn(l, K)\n",
    "\n",
    "        W = np.linalg.inv(X_new.T@X_new)@X_new.T@y\n",
    "\n",
    "        list_of_errors[str(beta)][str(mu)] = ((y-X_new@W)**2).mean()"
   ]
  },
  {
   "cell_type": "code",
   "execution_count": null,
   "metadata": {
    "slideshow": {
     "slide_type": "subslide"
    }
   },
   "outputs": [],
   "source": [
    "BETAS, MUS = np.meshgrid(betas, mus)\n",
    "scores = np.zeros_like(BETAS)\n",
    "for i in range(len(BETAS)):\n",
    "    for j in range(len(BETAS[i])):\n",
    "        scores[i][j] = list_of_errors[str(BETAS[i][j])][str(MUS[i][j])]\n",
    "\n",
    "fig = plt.figure(figsize=(14.0, 10.0))\n",
    "ax = plt.axes(projection='3d')\n",
    "ax.plot_surface(BETAS, MUS, scores, cmap='gist_gray', alpha=0.99)\n",
    "ax.set_xlabel(r'$\\beta$', labelpad= 14), ax.set_ylabel(r'$\\mu$', labelpad= 14)\n",
    "ax.set_zlabel(r'$S$'), ax.set_zlim((0, 4)), ax.view_init(30, 150)\n",
    "\n",
    "plt.show()"
   ]
  },
  {
   "cell_type": "markdown",
   "metadata": {
    "slideshow": {
     "slide_type": "slide"
    }
   },
   "source": [
    "## Регуляризация в многомерной регрессии"
   ]
  },
  {
   "cell_type": "markdown",
   "metadata": {
    "slideshow": {
     "slide_type": "subslide"
    }
   },
   "source": [
    "### Простое решение на основе МНК\n",
    "\n",
    "Тривиально получается, что решение задачи:\n",
    "$$\n",
    "    ||\\mathbf{X}\\mathbf{W} - \\mathbf{Y}||_2^2 + \\tau ||\\mathbf{W}||_2^2 \\to \\min_{\\mathbf{W}},\n",
    "$$\n",
    "является матрица:\n",
    "$$\n",
    "    \\mathbf{W}^* = \\left(\\mathbf{X}^{\\mathsf{T}}\\mathbf{X} + \\tau\\mathbf{I}\\right)^{-1}\\mathbf{X}^{\\mathsf{T}}\\mathbf{Y}\n",
    "$$"
   ]
  },
  {
   "cell_type": "markdown",
   "metadata": {
    "slideshow": {
     "slide_type": "subslide"
    }
   },
   "source": [
    "### Решение через SVD\n",
    "\n",
    "Лемма:\n",
    "$$\n",
    "\\mathbf{W}^* = \\mathbf{U}\\mathbf{D}\\left(\\mathbf{D}^2+\\tau\\mathbf{I}\\right)^{-1}\\mathbf{V}^{\\mathsf{T}}\n",
    "$$"
   ]
  },
  {
   "cell_type": "code",
   "execution_count": null,
   "metadata": {
    "slideshow": {
     "slide_type": "subslide"
    }
   },
   "outputs": [],
   "source": [
    "np.random.seed(0)\n",
    "n = 2\n",
    "l = 100\n",
    "K = 2\n",
    "\n",
    "X = np.random.randn(l, n)\n",
    "W_true = np.random.randn(n, K)"
   ]
  },
  {
   "cell_type": "code",
   "execution_count": null,
   "metadata": {
    "slideshow": {
     "slide_type": "subslide"
    }
   },
   "outputs": [],
   "source": [
    "tau = 10.\n",
    "W = (U.T@D@np.linalg.inv(D**2 + tau*np.eye(len(D)))@V.T)@y\n",
    "\n",
    "((W-W_true)**2).mean()"
   ]
  },
  {
   "cell_type": "code",
   "execution_count": null,
   "metadata": {
    "slideshow": {
     "slide_type": "subslide"
    }
   },
   "outputs": [],
   "source": [
    "np.random.seed(0)\n",
    "mus = np.linspace(0., 1., 100)\n",
    "betas = np.linspace(0., 2., 100)\n",
    "tau = 10.\n",
    "list_of_errors = dict()\n",
    "\n",
    "for beta in betas:\n",
    "    list_of_errors[str(beta)] = dict()\n",
    "    for mu in mus:\n",
    "        lambd_new = np.array(lambd)\n",
    "        lambd_new[1] = mu*lambd_new[0]\n",
    "        d_new = np.sqrt(lambd_new)\n",
    "        D_new = np.eye(len(d_new))*d_new\n",
    "        X_new = V@D_new@U\n",
    "\n",
    "        y = X_new@W_true + beta*np.random.randn(l, K)\n",
    "        W = (U.T@D_new@np.linalg.inv(D_new**2 + tau*np.eye(len(D_new)))@V.T)@y\n",
    "\n",
    "        list_of_errors[str(beta)][str(mu)] = ((W-W_true)**2).mean()"
   ]
  },
  {
   "cell_type": "code",
   "execution_count": null,
   "metadata": {
    "slideshow": {
     "slide_type": "subslide"
    }
   },
   "outputs": [],
   "source": [
    "BETAS, MUS = np.meshgrid(betas, mus)\n",
    "scores = np.zeros_like(BETAS)\n",
    "for i in range(len(BETAS)):\n",
    "    for j in range(len(BETAS[i])):\n",
    "        scores[i][j] = list_of_errors[str(BETAS[i][j])][str(MUS[i][j])]\n",
    "\n",
    "fig = plt.figure(figsize=(14.0, 10.0))\n",
    "ax = plt.axes(projection='3d')\n",
    "ax.plot_surface(BETAS, MUS, scores, cmap='gist_gray', alpha=0.99)\n",
    "ax.set_xlabel(r'$\\beta$', labelpad= 14), ax.set_ylabel(r'$\\mu$', labelpad= 14)\n",
    "ax.set_zlabel(r'$S$'), ax.set_zlim((0, 0.5)), ax.view_init(30, 150)\n",
    "\n",
    "plt.show()"
   ]
  },
  {
   "cell_type": "code",
   "execution_count": null,
   "metadata": {
    "slideshow": {
     "slide_type": "subslide"
    }
   },
   "outputs": [],
   "source": [
    "np.random.seed(0)\n",
    "mus = np.linspace(0., 1., 100)\n",
    "betas = np.linspace(0., 2., 100)\n",
    "list_of_errors = dict()\n",
    "\n",
    "for beta in betas:\n",
    "    list_of_errors[str(beta)] = dict()\n",
    "    for mu in mus:\n",
    "        lambd_new = np.array(lambd)\n",
    "        lambd_new[1] = mu*lambd_new[0]\n",
    "        d_new = np.sqrt(lambd_new)\n",
    "        D_new = np.eye(len(d_new))*d_new\n",
    "        X_new = V@D_new@U\n",
    "\n",
    "        y = X_new@W_true + beta*np.random.randn(l, K)\n",
    "\n",
    "        W = np.linalg.inv(X_new.T@X_new)@X_new.T@y\n",
    "\n",
    "        list_of_errors[str(beta)][str(mu)] = ((y-X_new@W)**2).mean()"
   ]
  },
  {
   "cell_type": "code",
   "execution_count": null,
   "metadata": {
    "slideshow": {
     "slide_type": "subslide"
    }
   },
   "outputs": [],
   "source": [
    "BETAS, MUS = np.meshgrid(betas, mus)\n",
    "scores = np.zeros_like(BETAS)\n",
    "for i in range(len(BETAS)):\n",
    "    for j in range(len(BETAS[i])):\n",
    "        scores[i][j] = list_of_errors[str(BETAS[i][j])][str(MUS[i][j])]\n",
    "\n",
    "fig = plt.figure(figsize=(14.0, 10.0))\n",
    "ax = plt.axes(projection='3d')\n",
    "ax.plot_surface(BETAS, MUS, scores, cmap='gist_gray', alpha=0.99)\n",
    "ax.set_xlabel(r'$\\beta$', labelpad= 14), ax.set_ylabel(r'$\\mu$', labelpad= 14)\n",
    "ax.set_zlabel(r'$S$'), ax.set_zlim((0, 4)), ax.view_init(30, 150)\n",
    "\n",
    "plt.show()"
   ]
  },
  {
   "cell_type": "markdown",
   "metadata": {
    "slideshow": {
     "slide_type": "slide"
    }
   },
   "source": [
    "## Метод главных компонент"
   ]
  },
  {
   "cell_type": "code",
   "execution_count": null,
   "metadata": {
    "slideshow": {
     "slide_type": "subslide"
    }
   },
   "outputs": [],
   "source": [
    "MNIST_train = datasets.MNIST('./mnist', train=True, download=True)\n",
    "X_train = MNIST_train.data.view([-1, 784]).cpu().numpy()\n",
    "Y_train = MNIST_train.targets.cpu().numpy()\n",
    "\n",
    "MNIST_test = datasets.MNIST('./mnist', train=False, download=True)\n",
    "X_test = MNIST_test.data.view([-1, 784]).cpu().numpy()\n",
    "Y_test = MNIST_test.targets.cpu().numpy()"
   ]
  },
  {
   "cell_type": "code",
   "execution_count": null,
   "metadata": {
    "slideshow": {
     "slide_type": "subslide"
    }
   },
   "outputs": [],
   "source": [
    "pca = PCA(2)\n",
    "X_train_low = pca.fit_transform(X_train)\n",
    "X_test_low = pca.fit_transform(X_test)"
   ]
  },
  {
   "cell_type": "code",
   "execution_count": null,
   "metadata": {
    "slideshow": {
     "slide_type": "subslide"
    }
   },
   "outputs": [],
   "source": [
    "for k in np.unique(Y_train):\n",
    "    idx = np.where(Y_train[:1000] == k)[0]\n",
    "    plt.plot(X_train_low[idx, 0], X_train_low[idx, 1], '.', label = str(k))\n",
    "    \n",
    "plt.legend(loc='best')\n",
    "plt.show()"
   ]
  },
  {
   "cell_type": "code",
   "execution_count": null,
   "metadata": {
    "slideshow": {
     "slide_type": "skip"
    }
   },
   "outputs": [],
   "source": [
    "class Perceptron(torch.nn.Module):\n",
    "    def __init__(self, input_dim=784, num_layers=0, \n",
    "                 hidden_dim=64, output_dim=10, p=0.0, device='cpu'):\n",
    "        super(Perceptron, self).__init__()\n",
    "        \n",
    "        self.layers = torch.nn.Sequential()\n",
    "        \n",
    "        prev_size = input_dim\n",
    "        for i in range(num_layers):\n",
    "            self.layers.add_module('layer{}'.format(i), \n",
    "                                  torch.nn.Linear(prev_size, hidden_dim))\n",
    "            self.layers.add_module('relu{}'.format(i), torch.nn.ReLU())\n",
    "            self.layers.add_module('dropout{}'.format(i), torch.nn.Dropout(p=p))\n",
    "            prev_size = hidden_dim\n",
    "        \n",
    "        self.layers.add_module('classifier', \n",
    "                               torch.nn.Linear(prev_size, output_dim))        \n",
    "        self.to(device)\n",
    "        \n",
    "    def forward(self, input):\n",
    "        return self.layers(input)\n",
    "    \n",
    "def trainer(model, dataset, loss_function, optimizer, epochs):\n",
    "    for epoch in tqdm(range(epochs), leave=False):\n",
    "        generator = torch.utils.data.DataLoader(dataset, batch_size=64, \n",
    "                                              shuffle=True)\n",
    "        for x, y in tqdm(generator, leave=False):\n",
    "            optimizer.zero_grad()\n",
    "            x = x.to(device)\n",
    "            y = y.to(device)\n",
    "\n",
    "            output = model(x)\n",
    "            loss = loss_function(output, y)\n",
    "            loss.backward()\n",
    "            optimizer.step()\n",
    "            \n",
    "            \n",
    "def testing(model, dataset):\n",
    "    generator = torch.utils.data.DataLoader(dataset, batch_size=64)\n",
    "\n",
    "    pred = []\n",
    "    real = []\n",
    "    for x, y in tqdm(generator, leave=False):\n",
    "        x = x.to(device)\n",
    "        y = y.to(device)\n",
    "\n",
    "        pred.extend(torch.argmax(model(x), dim=-1).cpu().numpy().tolist())\n",
    "        real.extend(y.cpu().numpy().tolist())\n",
    "\n",
    "    return np.mean(np.array(real) == np.array(pred)), \\\n",
    "           classification_report(real, pred)"
   ]
  },
  {
   "cell_type": "code",
   "execution_count": null,
   "metadata": {
    "slideshow": {
     "slide_type": "subslide"
    }
   },
   "outputs": [],
   "source": [
    "device = torch.device(\"cuda\" if torch.cuda.is_available() else \"cpu\")\n",
    "device"
   ]
  },
  {
   "cell_type": "code",
   "execution_count": null,
   "metadata": {
    "slideshow": {
     "slide_type": "subslide"
    }
   },
   "outputs": [],
   "source": [
    "model = Perceptron(device=device)\n",
    "dataset_train = torch.utils.data.TensorDataset(torch.Tensor(X_train), \n",
    "                                               torch.LongTensor(Y_train))\n",
    "dataset_test = torch.utils.data.TensorDataset(torch.Tensor(X_test), \n",
    "                                              torch.LongTensor(Y_test))\n",
    "\n",
    "_ = model.train()\n",
    "trainer(model=model, \n",
    "        dataset=dataset_train, \n",
    "        loss_function=torch.nn.CrossEntropyLoss(), \n",
    "        optimizer=torch.optim.Adam(model.parameters(), lr=0.001), \n",
    "        epochs=1)\n",
    "\n",
    "print(testing(model, dataset_test)[1])"
   ]
  },
  {
   "cell_type": "code",
   "execution_count": null,
   "metadata": {
    "slideshow": {
     "slide_type": "subslide"
    }
   },
   "outputs": [],
   "source": [
    "pca = PCA(2)\n",
    "X_train_low = pca.fit_transform(X_train)\n",
    "X_test_low = pca.transform(X_test)"
   ]
  },
  {
   "cell_type": "code",
   "execution_count": null,
   "metadata": {
    "slideshow": {
     "slide_type": "subslide"
    }
   },
   "outputs": [],
   "source": [
    "model = Perceptron(input_dim=2, device=device)\n",
    "dataset_train = torch.utils.data.TensorDataset(torch.Tensor(X_train_low), \n",
    "                                               torch.LongTensor(Y_train))\n",
    "dataset_test = torch.utils.data.TensorDataset(torch.Tensor(X_test_low), \n",
    "                                              torch.LongTensor(Y_test))\n",
    "\n",
    "_ = model.train()\n",
    "trainer(model=model, \n",
    "        dataset=dataset_train, \n",
    "        loss_function=torch.nn.CrossEntropyLoss(), \n",
    "        optimizer=torch.optim.Adam(model.parameters(), lr=0.001), \n",
    "        epochs=1)\n",
    "\n",
    "print(testing(model, dataset_test)[1])"
   ]
  },
  {
   "cell_type": "code",
   "execution_count": null,
   "metadata": {
    "slideshow": {
     "slide_type": "subslide"
    }
   },
   "outputs": [],
   "source": [
    "pca = PCA(10)\n",
    "X_train_low = pca.fit_transform(X_train)\n",
    "X_test_low = pca.transform(X_test)"
   ]
  },
  {
   "cell_type": "code",
   "execution_count": null,
   "metadata": {
    "slideshow": {
     "slide_type": "subslide"
    }
   },
   "outputs": [],
   "source": [
    "model = Perceptron(input_dim=10, device=device)\n",
    "dataset_train = torch.utils.data.TensorDataset(torch.Tensor(X_train_low), \n",
    "                                               torch.LongTensor(Y_train))\n",
    "dataset_test = torch.utils.data.TensorDataset(torch.Tensor(X_test_low), \n",
    "                                              torch.LongTensor(Y_test))\n",
    "\n",
    "_ = model.train()\n",
    "trainer(model=model, \n",
    "        dataset=dataset_train, \n",
    "        loss_function=torch.nn.CrossEntropyLoss(), \n",
    "        optimizer=torch.optim.Adam(model.parameters(), lr=0.001), \n",
    "        epochs=1)\n",
    "\n",
    "print(testing(model, dataset_test)[1])"
   ]
  },
  {
   "cell_type": "code",
   "execution_count": null,
   "metadata": {
    "slideshow": {
     "slide_type": "subslide"
    }
   },
   "outputs": [],
   "source": [
    "pca = PCA(100)\n",
    "X_train_low = pca.fit_transform(X_train)\n",
    "X_test_low = pca.transform(X_test)"
   ]
  },
  {
   "cell_type": "code",
   "execution_count": null,
   "metadata": {
    "slideshow": {
     "slide_type": "subslide"
    }
   },
   "outputs": [],
   "source": [
    "model = Perceptron(input_dim=100, device=device)\n",
    "dataset_train = torch.utils.data.TensorDataset(torch.Tensor(X_train_low), \n",
    "                                               torch.LongTensor(Y_train))\n",
    "dataset_test = torch.utils.data.TensorDataset(torch.Tensor(X_test_low), \n",
    "                                              torch.LongTensor(Y_test))\n",
    "\n",
    "_ = model.train()\n",
    "trainer(model=model, \n",
    "        dataset=dataset_train, \n",
    "        loss_function=torch.nn.CrossEntropyLoss(), \n",
    "        optimizer=torch.optim.Adam(model.parameters(), lr=0.001), \n",
    "        epochs=1)\n",
    "\n",
    "print(testing(model, dataset_test)[1])"
   ]
  },
  {
   "cell_type": "markdown",
   "metadata": {
    "slideshow": {
     "slide_type": "slide"
    }
   },
   "source": [
    "## Метод главных компонент для изображения"
   ]
  },
  {
   "cell_type": "code",
   "execution_count": null,
   "metadata": {
    "slideshow": {
     "slide_type": "subslide"
    }
   },
   "outputs": [],
   "source": [
    "img = imread('picture.jpg').mean(axis=-1)\n",
    "plt.imshow(img, cmap='gray')\n",
    "plt.axis('off')\n",
    "\n",
    "plt.show()"
   ]
  },
  {
   "cell_type": "code",
   "execution_count": null,
   "metadata": {
    "slideshow": {
     "slide_type": "subslide"
    }
   },
   "outputs": [],
   "source": [
    "V, d, U = np.linalg.svd(img, full_matrices=False)\n",
    "D = np.diag(d)\n"
   ]
  },
  {
   "cell_type": "code",
   "execution_count": null,
   "metadata": {
    "scrolled": false,
    "slideshow": {
     "slide_type": "subslide"
    }
   },
   "outputs": [],
   "source": [
    "ranks = [1, 2, 3, 4, 5, 10, 20, 30, 40, 50, 100, 200, 500, 700]\n",
    "\n",
    "fig = plt.figure(figsize=(30, 10))\n",
    "gs = gridspec.GridSpec(2, 7)\n",
    "ax = np.empty([len(ranks)], dtype=object)\n",
    "for i in range(len(ranks)):\n",
    "    ax[i] = fig.add_subplot(gs[i])\n",
    "\n",
    "for i, k in enumerate(ranks):\n",
    "    img_new = V[:, :k] @ D[:k,:k] @ U[:k,:]\n",
    "    ax[i].imshow(img_new, cmap='gray'), ax[i].axis('off')\n",
    "    ax[i].set_title('number of components = {}'.format(k))\n",
    "\n",
    "plt.show()"
   ]
  },
  {
   "cell_type": "code",
   "execution_count": null,
   "metadata": {
    "slideshow": {
     "slide_type": "subslide"
    }
   },
   "outputs": [],
   "source": [
    "img = imread('lecture.png').mean(axis=-1)\n",
    "plt.imshow(img, cmap='gray')\n",
    "plt.axis('off')\n",
    "\n",
    "plt.show()"
   ]
  },
  {
   "cell_type": "code",
   "execution_count": null,
   "metadata": {
    "slideshow": {
     "slide_type": "subslide"
    }
   },
   "outputs": [],
   "source": [
    "V, d, U = np.linalg.svd(img, full_matrices=False)\n",
    "D = np.diag(d)\n"
   ]
  },
  {
   "cell_type": "code",
   "execution_count": null,
   "metadata": {
    "slideshow": {
     "slide_type": "subslide"
    }
   },
   "outputs": [],
   "source": [
    "ranks = [1, 2, 3, 4, 10, 20, 30, 40]\n",
    "\n",
    "fig = plt.figure(figsize=(20, 5))\n",
    "gs = gridspec.GridSpec(2, 4)\n",
    "ax = np.empty([len(ranks)], dtype=object)\n",
    "for i in range(len(ranks)):\n",
    "    ax[i] = fig.add_subplot(gs[i])\n",
    "\n",
    "for i, k in enumerate(ranks):\n",
    "    img_new = V[:, :k] @ D[:k,:k] @ U[:k,:]\n",
    "    ax[i].imshow(img_new, cmap='gray'), ax[i].axis('off')\n",
    "    ax[i].set_title('number of components = {}'.format(k))\n",
    "\n",
    "plt.show()"
   ]
  },
  {
   "cell_type": "code",
   "execution_count": null,
   "metadata": {
    "slideshow": {
     "slide_type": "subslide"
    }
   },
   "outputs": [],
   "source": [
    "epsilon = 1e-3\n",
    "for k in range(1, len(d)):\n",
    "    if (d[k+1:]**2).sum()/(d**2).sum() < epsilon:\n",
    "        break\n",
    "\n",
    "img_new = V[:, :k] @ D[:k,:k] @ U[:k,:]\n",
    "plt.imshow(img_new, cmap='gray'), plt.axis('off')\n",
    "plt.title('number of components = {}'.format(k))\n",
    "plt.show()"
   ]
  },
  {
   "cell_type": "code",
   "execution_count": null,
   "metadata": {
    "slideshow": {
     "slide_type": "subslide"
    }
   },
   "outputs": [],
   "source": [
    "img = imread('picture.jpg')\n",
    "plt.imshow(img)\n",
    "plt.axis('off')\n",
    "\n",
    "plt.show()"
   ]
  },
  {
   "cell_type": "code",
   "execution_count": null,
   "metadata": {
    "slideshow": {
     "slide_type": "subslide"
    }
   },
   "outputs": [],
   "source": [
    "V_1, d, U_1 = np.linalg.svd(img[:,:,0], full_matrices=False)\n",
    "D_1 = np.diag(d)\n",
    "\n",
    "V_2, d, U_2 = np.linalg.svd(img[:,:,1], full_matrices=False)\n",
    "D_2 = np.diag(d)\n",
    "\n",
    "V_3, d, U_3 = np.linalg.svd(img[:,:,2], full_matrices=False)\n",
    "D_3 = np.diag(d)\n"
   ]
  },
  {
   "cell_type": "code",
   "execution_count": null,
   "metadata": {
    "slideshow": {
     "slide_type": "subslide"
    }
   },
   "outputs": [],
   "source": [
    "ranks = [1, 2, 3, 4, 5, 10, 20, 30, 50, 100, 200, 300, 400, 500]\n",
    "\n",
    "fig = plt.figure(figsize=(30, 10))\n",
    "gs = gridspec.GridSpec(2, 7)\n",
    "ax = np.empty([len(ranks)], dtype=object)\n",
    "for i in range(len(ranks)):\n",
    "    ax[i] = fig.add_subplot(gs[i])\n",
    "    \n",
    "img_new = np.empty_like(img)\n",
    "for i, k in enumerate(ranks):\n",
    "    img_new[:, :, 0] = V_1[:, :k] @ D_1[:k,:k] @ U_1[:k,:]\n",
    "    img_new[:, :, 1] = V_2[:, :k] @ D_2[:k,:k] @ U_2[:k,:]\n",
    "    img_new[:, :, 2] = V_3[:, :k] @ D_3[:k,:k] @ U_3[:k,:]\n",
    "    ax[i].imshow(img_new), ax[i].axis('off')\n",
    "    ax[i].set_title('number of components = {}'.format(k))\n",
    "\n",
    "plt.show()"
   ]
  },
  {
   "cell_type": "code",
   "execution_count": null,
   "metadata": {},
   "outputs": [],
   "source": []
  },
  {
   "cell_type": "code",
   "execution_count": null,
   "metadata": {},
   "outputs": [],
   "source": []
  }
 ],
 "metadata": {
  "celltoolbar": "Slideshow",
  "kernelspec": {
   "display_name": "Python 3",
   "language": "python",
   "name": "python3"
  },
  "language_info": {
   "codemirror_mode": {
    "name": "ipython",
    "version": 3
   },
   "file_extension": ".py",
   "mimetype": "text/x-python",
   "name": "python",
   "nbconvert_exporter": "python",
   "pygments_lexer": "ipython3",
   "version": "3.9.7"
  }
 },
 "nbformat": 4,
 "nbformat_minor": 4
}
