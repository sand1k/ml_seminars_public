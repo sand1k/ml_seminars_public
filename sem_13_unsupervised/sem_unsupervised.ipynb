{
 "cells": [
  {
   "attachments": {},
   "cell_type": "markdown",
   "metadata": {
    "slideshow": {
     "slide_type": "slide"
    }
   },
   "source": [
    "# Методы кластеризации"
   ]
  },
  {
   "attachments": {},
   "cell_type": "markdown",
   "metadata": {
    "id": "s3qWY0M5LA6r",
    "slideshow": {
     "slide_type": "slide"
    }
   },
   "source": [
    "## Библиотеки"
   ]
  },
  {
   "cell_type": "code",
   "execution_count": null,
   "metadata": {
    "id": "K2_VhyWeteMB",
    "slideshow": {
     "slide_type": "subslide"
    }
   },
   "outputs": [],
   "source": [
    "import matplotlib.pyplot as plt\n",
    "import seaborn as sns\n",
    "import numpy as np\n",
    "from sklearn.metrics import accuracy_score\n",
    "\n",
    "from sklearn.cluster import KMeans, DBSCAN, AgglomerativeClustering\n",
    "from scipy.cluster.hierarchy import dendrogram\n",
    "\n",
    "import seaborn as sns\n",
    "import pandas as pd\n",
    "import math\n",
    "from sklearn.mixture import GaussianMixture as GMM"
   ]
  },
  {
   "cell_type": "code",
   "execution_count": null,
   "metadata": {
    "id": "UCn8xDPhteMB",
    "slideshow": {
     "slide_type": "skip"
    }
   },
   "outputs": [],
   "source": [
    "import warnings\n",
    "warnings.filterwarnings(\"ignore\")\n",
    "\n",
    "sns.set_style(\"white\")\n",
    "%matplotlib inline"
   ]
  },
  {
   "cell_type": "code",
   "execution_count": null,
   "metadata": {
    "slideshow": {
     "slide_type": "subslide"
    }
   },
   "outputs": [],
   "source": [
    "colors = ['blue', 'red', 'green', 'orange', 'magenta', 'black', 'cyan', 'purple']"
   ]
  },
  {
   "attachments": {},
   "cell_type": "markdown",
   "metadata": {
    "slideshow": {
     "slide_type": "slide"
    }
   },
   "source": [
    "## Задача кластеризации"
   ]
  },
  {
   "attachments": {},
   "cell_type": "markdown",
   "metadata": {
    "slideshow": {
     "slide_type": "subslide"
    }
   },
   "source": [
    "Дано:\n",
    "- $X$ --- пространство объектов\n",
    "- $X^l = \\{x_1, \\cdots, x_l\\}$ --- обучающая выборка\n",
    "- $\\rho: X\\times X \\to R^+$ --- функция расстояния\n",
    "\n",
    "Найти:\n",
    "- $Y$ --- множество кластеров\n",
    "- $a: X \\to Y$ --- алгоритм кластеризации\n",
    "    - каждый класстер состоит из близкихобъектов\n",
    "    - объекты разных кластеров существенно различны."
   ]
  },
  {
   "attachments": {},
   "cell_type": "markdown",
   "metadata": {
    "slideshow": {
     "slide_type": "slide"
    }
   },
   "source": [
    "## Примеры"
   ]
  },
  {
   "cell_type": "code",
   "execution_count": null,
   "metadata": {
    "slideshow": {
     "slide_type": "skip"
    }
   },
   "outputs": [],
   "source": [
    "np.random.seed(0)\n",
    "l = 500\n",
    "X_1 = np.random.dirichlet([1e-3, 1e-3], size = l) + 1e-1*np.random.randn(l, 2)\n",
    "X_2 = 2*np.random.dirichlet([1e-3, 1e-3], size = l) + 1e-1*np.random.randn(l, 2)\n",
    "\n",
    "X = np.vstack([X_1, X_2])\n",
    "_ = plt.plot(X[:, 0], X[:, 1], '.', color=colors[0])\n",
    "\n",
    "plt.show()"
   ]
  },
  {
   "cell_type": "code",
   "execution_count": null,
   "metadata": {
    "slideshow": {
     "slide_type": "skip"
    }
   },
   "outputs": [],
   "source": [
    "np.random.seed(0)\n",
    "l = 500\n",
    "X_1 = np.random.dirichlet([1e-2, 1e-2], size = l) + 1e-1*np.random.randn(l, 2)\n",
    "X_2 = 2*np.random.dirichlet([1e-2, 1e-2], size = l) + 1e-1*np.random.randn(l, 2)\n",
    "\n",
    "X = np.vstack([X_1, X_2])\n",
    "_ = plt.plot(X[:, 0], X[:, 1], '.', color=colors[0])\n",
    "\n",
    "plt.show()"
   ]
  },
  {
   "cell_type": "code",
   "execution_count": null,
   "metadata": {
    "slideshow": {
     "slide_type": "skip"
    }
   },
   "outputs": [],
   "source": [
    "np.random.seed(0)\n",
    "l = 500\n",
    "X_1 = np.random.dirichlet([1e-1, 1e-1], size = l) \\\n",
    "      + 1e-1*np.random.randn(l, 2)\n",
    "X_2 = 2*np.random.dirichlet([1e-1, 1e-1], size = l) \\\n",
    "      + 1e-1*np.random.randn(l, 2)\n",
    "\n",
    "X = np.vstack([X_1, X_2])\n",
    "_ = plt.plot(X[:, 0], X[:, 1], '.', color=colors[0])\n",
    "\n",
    "plt.show()"
   ]
  },
  {
   "cell_type": "code",
   "execution_count": null,
   "metadata": {
    "slideshow": {
     "slide_type": "subslide"
    }
   },
   "outputs": [],
   "source": [
    "np.random.seed(0)\n",
    "l = 500\n",
    "X_1 = np.random.dirichlet([1e-0, 1e-0], size = l) + 1e-1*np.random.randn(l, 2)\n",
    "X_2 = 2*np.random.dirichlet([1e-0, 1e-0], size = l) + 1e-1*np.random.randn(l, 2)\n",
    "\n",
    "_ = plt.plot(X_1[:, 0], X_1[:, 1], '.', color=colors[0])\n",
    "_ = plt.plot(X_2[:, 0], X_2[:, 1], '.', color=colors[1])\n",
    "\n",
    "plt.show()"
   ]
  },
  {
   "attachments": {},
   "cell_type": "markdown",
   "metadata": {
    "slideshow": {
     "slide_type": "slide"
    }
   },
   "source": [
    "## K-Means"
   ]
  },
  {
   "cell_type": "code",
   "execution_count": null,
   "metadata": {
    "slideshow": {
     "slide_type": "subslide"
    }
   },
   "outputs": [],
   "source": [
    "np.random.seed(0)\n",
    "l = 50\n",
    "X_1 = np.random.dirichlet([1e-0, 1e-0], size = l) \\\n",
    "      + 1e-1*np.random.randn(l, 2)\n",
    "X_2 = 2*np.random.dirichlet([1e-0, 1e-0], size = l) \\\n",
    "      + 1e-1*np.random.randn(l, 2)\n",
    "\n",
    "X = np.vstack([X_1, X_2])\n",
    "\n",
    "_ = plt.plot(X[:, 0], X[:, 1], '.', color=colors[0])\n",
    "plt.show()"
   ]
  },
  {
   "cell_type": "code",
   "execution_count": null,
   "metadata": {
    "slideshow": {
     "slide_type": "subslide"
    }
   },
   "outputs": [],
   "source": [
    "model = KMeans(n_clusters=2, random_state=42)\n",
    "model.fit(X)\n",
    "\n",
    "for i in np.unique(model.labels_):\n",
    "    _ = plt.plot(X[model.labels_ == i, 0], \n",
    "                 X[model.labels_ == i, 1], '.', color=colors[i])\n",
    "    _ = plt.plot([model.cluster_centers_[i][0]], \n",
    "                 [model.cluster_centers_[i][1]], 'x', c=colors[i], markersize=20)"
   ]
  },
  {
   "cell_type": "code",
   "execution_count": null,
   "metadata": {
    "slideshow": {
     "slide_type": "subslide"
    }
   },
   "outputs": [],
   "source": [
    "model = KMeans(n_clusters=4, random_state=42)\n",
    "model.fit(X)\n",
    "\n",
    "for i in np.unique(model.labels_):\n",
    "    _ = plt.plot(X[model.labels_ == i, 0], \n",
    "                 X[model.labels_ == i, 1], '.', color=colors[i])\n",
    "    _ = plt.plot([model.cluster_centers_[i][0]], \n",
    "                 [model.cluster_centers_[i][1]], 'x', c=colors[i], markersize=20)"
   ]
  },
  {
   "cell_type": "code",
   "execution_count": null,
   "metadata": {
    "slideshow": {
     "slide_type": "subslide"
    }
   },
   "outputs": [],
   "source": [
    "model = KMeans(n_clusters=8, random_state=42)\n",
    "model.fit(X)\n",
    "\n",
    "for i in np.unique(model.labels_):\n",
    "    _ = plt.plot(X[model.labels_ == i, 0], \n",
    "                 X[model.labels_ == i, 1], '.', color=colors[i])\n",
    "    _ = plt.plot([model.cluster_centers_[i][0]], \n",
    "                 [model.cluster_centers_[i][1]], 'x', c=colors[i], markersize=20)\n"
   ]
  },
  {
   "cell_type": "code",
   "execution_count": null,
   "metadata": {
    "slideshow": {
     "slide_type": "subslide"
    }
   },
   "outputs": [],
   "source": [
    "np.random.seed(0)\n",
    "l = 50\n",
    "X_1 = np.random.dirichlet([1e-2, 1e-2], size = l) \\\n",
    "      + 1e-1*np.random.randn(l, 2)\n",
    "X_2 = 2*np.random.dirichlet([1e-2, 1e-2], size = l) \\\n",
    "      + 1e-1*np.random.randn(l, 2)\n",
    "\n",
    "X = np.vstack([X_1, X_2])\n",
    "\n",
    "_ = plt.plot(X[:, 0], X[:, 1], '.', color=colors[0])\n",
    "plt.show()"
   ]
  },
  {
   "cell_type": "code",
   "execution_count": null,
   "metadata": {
    "slideshow": {
     "slide_type": "subslide"
    }
   },
   "outputs": [],
   "source": [
    "model = KMeans(n_clusters=2, random_state=42)\n",
    "model.fit(X)\n",
    "\n",
    "for i in np.unique(model.labels_):\n",
    "    _ = plt.plot(X[model.labels_ == i, 0], \n",
    "                 X[model.labels_ == i, 1], '.', color=colors[i])\n",
    "    _ = plt.plot([model.cluster_centers_[i][0]], \n",
    "                 [model.cluster_centers_[i][1]], 'x', c=colors[i], markersize=20)"
   ]
  },
  {
   "cell_type": "code",
   "execution_count": null,
   "metadata": {
    "slideshow": {
     "slide_type": "subslide"
    }
   },
   "outputs": [],
   "source": [
    "model = KMeans(n_clusters=4, random_state=42)\n",
    "model.fit(X)\n",
    "\n",
    "for i in np.unique(model.labels_):\n",
    "    _ = plt.plot(X[model.labels_ == i, 0], \n",
    "                 X[model.labels_ == i, 1], '.', color=colors[i])\n",
    "    _ = plt.plot([model.cluster_centers_[i][0]], \n",
    "                 [model.cluster_centers_[i][1]], 'x', c=colors[i], markersize=20)"
   ]
  },
  {
   "cell_type": "code",
   "execution_count": null,
   "metadata": {
    "slideshow": {
     "slide_type": "subslide"
    }
   },
   "outputs": [],
   "source": [
    "model = KMeans(n_clusters=8, random_state=42)\n",
    "model.fit(X)\n",
    "\n",
    "for i in np.unique(model.labels_):\n",
    "    _ = plt.plot(X[model.labels_ == i, 0], \n",
    "                 X[model.labels_ == i, 1], '.', color=colors[i])\n",
    "    _ = plt.plot([model.cluster_centers_[i][0]], \n",
    "                 [model.cluster_centers_[i][1]], 'x', c=colors[i], markersize=20)"
   ]
  },
  {
   "attachments": {},
   "cell_type": "markdown",
   "metadata": {
    "slideshow": {
     "slide_type": "subslide"
    }
   },
   "source": [
    "### Ограничения\n",
    "\n",
    "Работает с Евклидовой метрикой и только!"
   ]
  },
  {
   "attachments": {},
   "cell_type": "markdown",
   "metadata": {},
   "source": [
    "## EM-алгоритм\n",
    "Из статьи https://habr.com/ru/post/501850/"
   ]
  },
  {
   "cell_type": "code",
   "execution_count": null,
   "metadata": {},
   "outputs": [],
   "source": [
    "\n",
    "# запишем функцию E-шага\n",
    "def e_step(x, k, m, n, w, mu, sigma):\n",
    "    # инициализируем массив плотностей вероятностей извлечения i-ой детали из произведенных на j-м станке \n",
    "    pj_xi = []\n",
    "    for j in range(k):\n",
    "        det_sigma_j = np.linalg.det(sigma[j])\n",
    "        factor_1 = 1 / (((2 * math.pi)**(m/2)) * ((det_sigma_j)**0.5))\n",
    "        factor_2 = []\n",
    "        for i in x:\n",
    "            factor_2.append(math.e**float(\n",
    "                -0.5 * np.matrix(i - mu[j]) * np.matrix(np.linalg.inv(sigma[j])) * np.matrix(i - mu[j]).T))\n",
    "        pj_xi.append(factor_1 * np.array(factor_2))\n",
    "    pj_xi = np.array(pj_xi)\n",
    "    \n",
    "    # инициализируем массив плотностей вероятностей того, что i-я деталь произведена на j-м станке\n",
    "    pj_xi_w = []\n",
    "    for j in range(k):\n",
    "        pj_xi_w.append(pj_xi[j] * w[j])\n",
    "    pj_xi_w = np.array(pj_xi_w)\n",
    "    \n",
    "    # рассчитаем плотность вероятности извлечения i-й детали среди всех деталей  \n",
    "    sum_pj_xi_w = np.sum(pj_xi_w, axis = 0)\n",
    "    \n",
    "    # инициализируем массив вероятностей отнесения каждой детали к каждому станку\n",
    "    proba_xi = []\n",
    "    for j in range(k):\n",
    "        proba_xi.append(pj_xi_w[j] / sum_pj_xi_w)\n",
    "    \n",
    "    return np.array(proba_xi)\n",
    "\n",
    "# запишем функцию, в соответствии с которой, на основании данных о вероятности отнесения изделия к тому или иному станку,\n",
    "# будет определятся на каком станке изделие производилось\n",
    "def x_new(proba_xi):\n",
    "    X1_new_ind = []\n",
    "    X2_new_ind = []\n",
    "    X_answers = []\n",
    "\n",
    "    count = 0\n",
    "    for x in proba_xi[0]:\n",
    "        if x >= 0.5:\n",
    "            X1_new_ind.append(count)\n",
    "            X_answers.append(1)\n",
    "        else:\n",
    "            X2_new_ind.append(count)\n",
    "            X_answers.append(2)\n",
    "        count += 1\n",
    "    # на выходе получаем вектор индексов изделий, произведенных на станке №1, №2 и вектор ответов\n",
    "    return X1_new_ind, X2_new_ind, X_answers\n",
    "\n",
    "\n",
    "# запишем функцию M-шага\n",
    "def m_step(x, proba_xi,N):\n",
    "    w_new = np.sum(proba_xi, axis = 1) / N\n",
    "    \n",
    "    # рассчитаем математическое ожидание\n",
    "    mu_new = (np.array((np.matrix(proba_xi) * np.matrix(X))).T / np.sum(proba_xi, axis = 1)).T\n",
    "    \n",
    "    # рассчитаем дисперсии\n",
    "    cov_new = []\n",
    "    for mu in range(mu_new.shape[0]):\n",
    "        X_cd = []\n",
    "        X_cd_proba = []\n",
    "        count = 0\n",
    "        for x_i in x:\n",
    "            cd = np.array(x_i - mu_new[mu])\n",
    "            X_cd.append(cd)\n",
    "            X_cd_proba.append(cd * proba_xi[mu][count])\n",
    "            count += 1\n",
    "        X_cd = np.array(X_cd)\n",
    "        X_cd = X_cd.reshape(N, m)\n",
    "        X_cd_proba = np.array(X_cd_proba)\n",
    "        X_cd_proba = X_cd_proba.reshape(N, m)\n",
    "\n",
    "        cov_new.append(np.matrix(X_cd.T) * np.matrix(X_cd_proba))\n",
    "    cov_new = np.array((np.array(cov_new) / (np.sum(proba_xi, axis = 1)-1)))\n",
    "    # при расчете матрицы ковариации в некоторых случаях могут быть элементы с отрицательными значениями, переведем их в нули\n",
    "    # на основной рассчет такой перевод не повлияет, но упростит извлечение корня из значений матрицы ковариации\n",
    "    if cov_new[0][0][1] < 0:\n",
    "        cov_new[0][0][1] = 0\n",
    "    if cov_new[0][1][0] < 0:\n",
    "        cov_new[0][1][0] = 0\n",
    "    \n",
    "    if cov_new[1][0][1] < 0:\n",
    "        cov_new[1][0][1] = 0\n",
    "    if cov_new[1][1][0] < 0:\n",
    "        cov_new[1][1][0] = 0\n",
    "    \n",
    "    # рассчитаем стандартное отклонение\n",
    "    sigma_new = cov_new**0.5\n",
    "    return w_new, mu_new, sigma_new\n",
    "# сформируем исходные условия\n",
    "# количество изделий произведенных на станке №1 (кластер 1)\n",
    "N1 = 6000\n",
    "# количество изделий произведенных на станке №2 (кластер 2)\n",
    "N2 = 4000\n",
    "# суммарное количество изделий произведенных на обоих станках\n",
    "N = N1 + N2\n",
    "\n",
    "# количество станков\n",
    "k = 2\n",
    "\n",
    "# диаметр изделий станка №1\n",
    "mu_samples_1_1 = 64.\n",
    "# вес изделий станка №1\n",
    "mu_samples_1_2 = 14.\n",
    "\n",
    "# диаметр изделий станка №2\n",
    "mu_samples_2_1 = 52.\n",
    "# вес изделий станка №2\n",
    "mu_samples_2_2 = 9.5\n",
    "\n",
    "# стандартное отклонение диаметров изделий станка №1\n",
    "sigma_samples_1_1 = 3.5\n",
    "# стандартное отклонение веса изделий станка №1\n",
    "sigma_samples_1_2 = 1.\n",
    "\n",
    "# стандартное отклонение диаметров изделий станка №2\n",
    "sigma_samples_2_1 = 2.\n",
    "# стандартное отклонение веса изделий станка №2\n",
    "sigma_samples_2_2 = 0.7\n",
    "X = np.zeros((N, 2))\n",
    "\n",
    "np.random.seed(seed=42)\n",
    "# инициализируем данные по деталям, произведенных на станке №1\n",
    "X[:N1, 0] = np.random.normal(loc=mu_samples_1_1, scale=sigma_samples_1_1, size=N1)\n",
    "X[:N1, 1] = np.random.normal(loc=mu_samples_1_2, scale=sigma_samples_1_2, size=N1)\n",
    "# инициализируем данные по деталям, произведенных на станке №2\n",
    "X[N1:N, 0] = np.random.normal(loc=mu_samples_2_1, scale=sigma_samples_2_1, size=N2)\n",
    "X[N1:N, 1] = np.random.normal(loc=mu_samples_2_2, scale=sigma_samples_2_2, size=N2)\n",
    "\n",
    "# зафиксируем количество признаков\n",
    "m = X.shape[1]\n",
    "\n",
    "# зафиксируем количество объектов\n",
    "n = X.shape[0]\n",
    "\n",
    "# зафиксируем правильные ответы для оценки качества алгоритма (в обучении не используется)\n",
    "y = np.zeros((N))\n",
    "y[:N1] = np.array((1))\n",
    "y[N1:N] = np.array((2))\n",
    "\n",
    "# инициализируем априорную вероятность извлечь изделие, произведенное на станке №1 и №2\n",
    "w = np.array([float(1./k), float(1./k)])\n",
    "\n",
    "np.random.seed(seed = None)\n",
    "# инициализируем средние значения диаметра и веса изделий (запишем в формате матрицы)\n",
    "mu  = np.array(\n",
    "    (np.mean(X[np.random.choice(n, int(n/k))], axis = 0), np.mean(X[np.random.choice(n, int(n/k))], axis = 0)))\n",
    "# mu = np.array(([mu_samples_1_1, mu_samples_1_2],[mu_samples_2_1, mu_samples_2_2]))\n",
    "\n",
    "# инициализируем стандартные отклонения в диаметре и весе изделий (запишем в формате матрицы ковариации)\n",
    "sigma = np.array(([1., 0.],[0., 1.], [1., 0.],[0., 1.]))\n",
    "# sigma = np.array(([sigma_samples_1_1, 0.],[0., sigma_samples_1_2], [sigma_samples_2_1, 0.],[0., sigma_samples_2_2]))\n",
    "sigma = sigma.reshape(k, m, m)\n",
    "\n",
    "# выберем количество итераций EM-алгоритма\n",
    "steps = 15\n",
    "# запустим цикл EM-алгоритма\n",
    "for i in range(0, steps):\n",
    "    proba_xi = e_step(X, k, m, n, w, mu, sigma)\n",
    "    if i > 0:\n",
    "        w, mu, sigma = m_step(X, proba_xi,N)\n",
    "    X1_new_ind, X2_new_ind, X_answers = x_new(proba_xi)\n",
    "    print('Итерация №', i)\n",
    "    print()\n",
    "    print('Матрица значений математических ожиданий')\n",
    "    print(mu)\n",
    "    print()\n",
    "    print('Матрица значений стандартных отклонений')\n",
    "    print(sigma)\n",
    "    print()\n",
    "    print('Доля правильно распознанных изделий')\n",
    "    print(round(accuracy_score(y, X_answers),3))\n",
    "    \n",
    "    plt.figure(figsize=(16, 6))  \n",
    "    plt.plot(\n",
    "        X[X1_new_ind,0], X[X1_new_ind,1], 'o', alpha = 0.7, color='sandybrown', label = 'Produced on machine #1')\n",
    "    plt.plot(\n",
    "        X[X2_new_ind,0], X[X2_new_ind,1], 'o', alpha = 0.45, color = 'darkblue', label = 'Produced on machine #2')\n",
    "    plt.plot(mu[0][0], mu[0][1], 'o', markersize = 16, color = 'red', label = 'Mu 1')\n",
    "    plt.plot(mu[1][0], mu[1][1], 'o',  markersize = 16, color = 'purple', label = 'Mu 2')\n",
    "    plt.xlabel('Diameter')\n",
    "    plt.ylabel('Weight')\n",
    "    plt.legend()\n",
    "    plt.show()\n",
    "np.random.seed(1)\n",
    "model = GMM(n_components=k, covariance_type='full')\n",
    "model.fit(X)\n",
    "\n",
    "\n",
    "temp_predict_X = model.predict(X)\n",
    "X_answers = []\n",
    "for i in range(X.shape[0]):\n",
    "    if temp_predict_X[i] == 0:\n",
    "        X_answers.append(1)\n",
    "    else:\n",
    "        X_answers.append(2)\n",
    "        \n",
    "\n",
    "print('Доля правильно распознанных изделий')\n",
    "print(round(accuracy_score(y, X_answers),3))"
   ]
  }
 ],
 "metadata": {
  "celltoolbar": "Slideshow",
  "kernelspec": {
   "display_name": "Python 3",
   "language": "python",
   "name": "python3"
  },
  "language_info": {
   "codemirror_mode": {
    "name": "ipython",
    "version": 3
   },
   "file_extension": ".py",
   "mimetype": "text/x-python",
   "name": "python",
   "nbconvert_exporter": "python",
   "pygments_lexer": "ipython3",
   "version": "3.9.7"
  }
 },
 "nbformat": 4,
 "nbformat_minor": 4
}
