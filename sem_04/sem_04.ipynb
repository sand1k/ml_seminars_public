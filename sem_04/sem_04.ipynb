{
 "cells": [
  {
   "cell_type": "markdown",
   "metadata": {
    "slideshow": {
     "slide_type": "slide"
    }
   },
   "source": [
    "# Линейные методы классификации и регрессии: метод опорных векторов"
   ]
  },
  {
   "cell_type": "code",
   "execution_count": null,
   "metadata": {
    "slideshow": {
     "slide_type": "skip"
    }
   },
   "outputs": [],
   "source": [
    "import warnings\n",
    "warnings.filterwarnings(\"ignore\")"
   ]
  },
  {
   "cell_type": "markdown",
   "metadata": {
    "slideshow": {
     "slide_type": "slide"
    }
   },
   "source": [
    "## Библиотеки"
   ]
  },
  {
   "cell_type": "code",
   "execution_count": null,
   "metadata": {
    "slideshow": {
     "slide_type": "subslide"
    }
   },
   "outputs": [],
   "source": [
    "import matplotlib.pyplot as plt\n",
    "from matplotlib import gridspec\n",
    "import seaborn as sns\n",
    "import pandas as pd\n",
    "from tqdm.notebook import tqdm\n",
    "\n",
    "from scipy.special import softmax\n",
    "from scipy.spatial.distance import cdist\n",
    "import numpy as np\n",
    "import torch\n",
    "\n",
    "from sklearn.preprocessing import StandardScaler\n",
    "from sklearn.svm import SVC, SVR\n",
    "from sklearn.metrics import classification_report\n",
    "from sklearn.model_selection import KFold, ParameterGrid\n",
    "from sklearn.datasets import make_classification, make_regression\n",
    "from sklearn.model_selection import train_test_split\n",
    "\n",
    "from mlxtend.plotting import plot_decision_regions\n"
   ]
  },
  {
   "cell_type": "markdown",
   "metadata": {
    "slideshow": {
     "slide_type": "slide"
    }
   },
   "source": [
    "## SVM Classification"
   ]
  },
  {
   "cell_type": "code",
   "execution_count": null,
   "metadata": {
    "slideshow": {
     "slide_type": "subslide"
    }
   },
   "outputs": [],
   "source": [
    "X, Y = make_classification(n_samples=150, n_features=2, \n",
    "                           n_informative=2, n_classes=2, \n",
    "                           n_redundant=0,\n",
    "                           n_clusters_per_class=1,\n",
    "                           random_state=40)\n",
    "\n",
    "X_train, X_test, Y_train, Y_test = train_test_split(X, Y, \n",
    "                                                    test_size=50, \n",
    "                                                    random_state=0)\n"
   ]
  },
  {
   "cell_type": "code",
   "execution_count": null,
   "metadata": {
    "slideshow": {
     "slide_type": "subslide"
    }
   },
   "outputs": [],
   "source": [
    "for k in np.unique(Y):\n",
    "    plt.plot(X[Y==k, 0], X[Y==k, 1], 'o')\n",
    "    \n",
    "plt.show()"
   ]
  },
  {
   "cell_type": "code",
   "execution_count": null,
   "metadata": {
    "slideshow": {
     "slide_type": "subslide"
    }
   },
   "outputs": [],
   "source": [
    "model = SVC(kernel='linear')\n",
    "_ = model.fit(X_train, Y_train)"
   ]
  },
  {
   "cell_type": "code",
   "execution_count": null,
   "metadata": {
    "slideshow": {
     "slide_type": "subslide"
    }
   },
   "outputs": [],
   "source": [
    "fig, gs = plt.figure(figsize=(14,4)), gridspec.GridSpec(1, 3)\n",
    "\n",
    "ax = []\n",
    "for i in range(3):\n",
    "    ax.append(fig.add_subplot(gs[i]))\n",
    "\n",
    "\n",
    "plot_decision_regions(X_train, Y_train, model, ax=ax[0])\n",
    "plot_decision_regions(X_test, Y_test, model, ax=ax[1])\n",
    "plot_decision_regions(X_train[model.support_], Y_train[model.support_], model, ax=ax[2])\n",
    "\n",
    "plt.show()"
   ]
  },
  {
   "cell_type": "markdown",
   "metadata": {
    "slideshow": {
     "slide_type": "slide"
    }
   },
   "source": [
    "## Ядра для SVM"
   ]
  },
  {
   "cell_type": "code",
   "execution_count": null,
   "metadata": {
    "slideshow": {
     "slide_type": "subslide"
    }
   },
   "outputs": [],
   "source": [
    "np.random.seed(0)\n",
    "m = 150\n",
    "n = 2\n",
    "X = 10*np.random.randn(m, n)\n",
    "\n",
    "Y = np.array((X[:,0]**2+X[:,1]**2+50*np.random.randn(m))<100, dtype=np.int64)\n",
    "\n",
    "X_train, X_test, Y_train, Y_test = train_test_split(X, Y, \n",
    "                                                    test_size=50, \n",
    "                                                    random_state=0)"
   ]
  },
  {
   "cell_type": "code",
   "execution_count": null,
   "metadata": {
    "slideshow": {
     "slide_type": "subslide"
    }
   },
   "outputs": [],
   "source": [
    "for k in np.unique(Y):\n",
    "    plt.plot(X[Y==k, 0], X[Y==k, 1], 'o')\n",
    "    \n",
    "plt.show()"
   ]
  },
  {
   "cell_type": "code",
   "execution_count": null,
   "metadata": {
    "slideshow": {
     "slide_type": "subslide"
    }
   },
   "outputs": [],
   "source": [
    "model = SVC(kernel='linear')\n",
    "_ = model.fit(X_train, Y_train)"
   ]
  },
  {
   "cell_type": "code",
   "execution_count": null,
   "metadata": {
    "slideshow": {
     "slide_type": "subslide"
    }
   },
   "outputs": [],
   "source": [
    "fig, gs = plt.figure(figsize=(14,4)), gridspec.GridSpec(1, 3)\n",
    "\n",
    "ax = []\n",
    "for i in range(3):\n",
    "    ax.append(fig.add_subplot(gs[i]))\n",
    "\n",
    "\n",
    "plot_decision_regions(X_train, Y_train, model, ax=ax[0])\n",
    "plot_decision_regions(X_test, Y_test, model, ax=ax[1])\n",
    "plot_decision_regions(X_train[model.support_], Y_train[model.support_], model, ax=ax[2])\n",
    "\n",
    "plt.show()"
   ]
  },
  {
   "cell_type": "code",
   "execution_count": null,
   "metadata": {
    "slideshow": {
     "slide_type": "subslide"
    }
   },
   "outputs": [],
   "source": [
    "model = SVC(kernel='poly')\n",
    "_ = model.fit(X_train, Y_train)"
   ]
  },
  {
   "cell_type": "code",
   "execution_count": null,
   "metadata": {
    "slideshow": {
     "slide_type": "subslide"
    }
   },
   "outputs": [],
   "source": [
    "fig, gs = plt.figure(figsize=(14,4)), gridspec.GridSpec(1, 3)\n",
    "\n",
    "ax = []\n",
    "for i in range(3):\n",
    "    ax.append(fig.add_subplot(gs[i]))\n",
    "\n",
    "\n",
    "plot_decision_regions(X_train, Y_train, model, ax=ax[0])\n",
    "plot_decision_regions(X_test, Y_test, model, ax=ax[1])\n",
    "plot_decision_regions(X_train[model.support_], Y_train[model.support_], model, ax=ax[2])\n",
    "\n",
    "plt.show()"
   ]
  },
  {
   "cell_type": "code",
   "execution_count": null,
   "metadata": {
    "slideshow": {
     "slide_type": "subslide"
    }
   },
   "outputs": [],
   "source": [
    "model = SVC(kernel='sigmoid')\n",
    "_ = model.fit(X_train, Y_train)"
   ]
  },
  {
   "cell_type": "code",
   "execution_count": null,
   "metadata": {
    "slideshow": {
     "slide_type": "subslide"
    }
   },
   "outputs": [],
   "source": [
    "fig, gs = plt.figure(figsize=(14,4)), gridspec.GridSpec(1, 3)\n",
    "\n",
    "ax = []\n",
    "for i in range(3):\n",
    "    ax.append(fig.add_subplot(gs[i]))\n",
    "\n",
    "\n",
    "plot_decision_regions(X_train, Y_train, model, ax=ax[0])\n",
    "plot_decision_regions(X_test, Y_test, model, ax=ax[1])\n",
    "plot_decision_regions(X_train[model.support_], Y_train[model.support_], model, ax=ax[2])\n",
    "\n",
    "plt.show()"
   ]
  },
  {
   "cell_type": "code",
   "execution_count": null,
   "metadata": {
    "slideshow": {
     "slide_type": "subslide"
    }
   },
   "outputs": [],
   "source": [
    "model = SVC(kernel='rbf')\n",
    "_ = model.fit(X_train, Y_train)"
   ]
  },
  {
   "cell_type": "code",
   "execution_count": null,
   "metadata": {
    "slideshow": {
     "slide_type": "subslide"
    }
   },
   "outputs": [],
   "source": [
    "fig, gs = plt.figure(figsize=(14,4)), gridspec.GridSpec(1, 3)\n",
    "\n",
    "ax = []\n",
    "for i in range(3):\n",
    "    ax.append(fig.add_subplot(gs[i]))\n",
    "\n",
    "\n",
    "plot_decision_regions(X_train, Y_train, model, ax=ax[0])\n",
    "plot_decision_regions(X_test, Y_test, model, ax=ax[1])\n",
    "plot_decision_regions(X_train[model.support_], Y_train[model.support_], model, ax=ax[2])\n",
    "\n",
    "plt.show()"
   ]
  },
  {
   "cell_type": "code",
   "execution_count": null,
   "metadata": {
    "slideshow": {
     "slide_type": "subslide"
    }
   },
   "outputs": [],
   "source": [
    "def kernel(X1, X2):\n",
    "    return (X1@X2.T)**2"
   ]
  },
  {
   "cell_type": "code",
   "execution_count": null,
   "metadata": {
    "slideshow": {
     "slide_type": "subslide"
    }
   },
   "outputs": [],
   "source": [
    "model = SVC(kernel=kernel)\n",
    "_ = model.fit(X_train, Y_train)"
   ]
  },
  {
   "cell_type": "code",
   "execution_count": null,
   "metadata": {
    "slideshow": {
     "slide_type": "subslide"
    }
   },
   "outputs": [],
   "source": [
    "fig, gs = plt.figure(figsize=(14,4)), gridspec.GridSpec(1, 3)\n",
    "\n",
    "ax = []\n",
    "for i in range(3):\n",
    "    ax.append(fig.add_subplot(gs[i]))\n",
    "\n",
    "plot_decision_regions(X_train, Y_train, model, ax=ax[0])\n",
    "plot_decision_regions(X_test, Y_test, model, ax=ax[1])\n",
    "plot_decision_regions(X_train[model.support_], Y_train[model.support_], model, ax=ax[2])\n",
    "\n",
    "plt.show()"
   ]
  },
  {
   "cell_type": "markdown",
   "metadata": {
    "slideshow": {
     "slide_type": "slide"
    }
   },
   "source": [
    "## SVM Regression"
   ]
  },
  {
   "cell_type": "code",
   "execution_count": null,
   "metadata": {
    "slideshow": {
     "slide_type": "subslide"
    }
   },
   "outputs": [],
   "source": [
    "np.random.seed(0)\n",
    "l = 150\n",
    "\n",
    "# Генерация данных\n",
    "x = np.linspace(0, 30, num=l)\n",
    "Y_without_noise = x + 4*np.sin(x)\n",
    "Y = Y_without_noise + 4*np.random.randn(l)\n",
    "\n",
    "# Генерация признаков\n",
    "X = np.array([x, np.sin(x)]).T\n",
    "\n",
    "X_train, X_test, Y_train, Y_test = train_test_split(X, Y, \n",
    "                                                    test_size=50, \n",
    "                                                    random_state=0)"
   ]
  },
  {
   "cell_type": "code",
   "execution_count": null,
   "metadata": {
    "slideshow": {
     "slide_type": "subslide"
    }
   },
   "outputs": [],
   "source": [
    "plt.plot(X[:, 0], Y, 'o')\n",
    "    \n",
    "plt.show()"
   ]
  },
  {
   "cell_type": "code",
   "execution_count": null,
   "metadata": {
    "slideshow": {
     "slide_type": "subslide"
    }
   },
   "outputs": [],
   "source": [
    "model = SVR(kernel='rbf')\n",
    "_ = model.fit(X_train, Y_train)"
   ]
  },
  {
   "cell_type": "code",
   "execution_count": null,
   "metadata": {
    "scrolled": true,
    "slideshow": {
     "slide_type": "subslide"
    }
   },
   "outputs": [],
   "source": [
    "plt.plot(x, Y, '.', label='points')\n",
    "plt.plot(x, Y_without_noise, label='real')\n",
    "plt.plot(x, model.predict(X), label='predict')\n",
    "\n",
    "plt.legend(loc='best')\n",
    "plt.show()"
   ]
  },
  {
   "cell_type": "code",
   "execution_count": null,
   "metadata": {
    "slideshow": {
     "slide_type": "subslide"
    }
   },
   "outputs": [],
   "source": [
    "model = SVR(kernel='linear')\n",
    "_ = model.fit(X_train, Y_train)"
   ]
  },
  {
   "cell_type": "code",
   "execution_count": null,
   "metadata": {
    "slideshow": {
     "slide_type": "subslide"
    }
   },
   "outputs": [],
   "source": [
    "plt.plot(x, Y, '.', label='points')\n",
    "plt.plot(x, Y_without_noise, label='real')\n",
    "plt.plot(x, model.predict(X), label='predict')\n",
    "\n",
    "plt.legend(loc='best')\n",
    "plt.show()"
   ]
  },
  {
   "cell_type": "code",
   "execution_count": null,
   "metadata": {
    "slideshow": {
     "slide_type": "subslide"
    }
   },
   "outputs": [],
   "source": [
    "np.random.seed(0)\n",
    "l = 150\n",
    "\n",
    "# Генерация данных\n",
    "x = np.linspace(0, 30, num=l)\n",
    "Y_without_noise = x + 4*np.sin(x)\n",
    "Y = Y_without_noise + 4*np.random.randn(l)\n",
    "\n",
    "# Генерация признаков\n",
    "X = np.array([x]).T\n",
    "\n",
    "X_train, X_test, Y_train, Y_test = train_test_split(X, Y, \n",
    "                                                    test_size=50, \n",
    "                                                    random_state=0)"
   ]
  },
  {
   "cell_type": "code",
   "execution_count": null,
   "metadata": {
    "slideshow": {
     "slide_type": "subslide"
    }
   },
   "outputs": [],
   "source": [
    "def kernel(X1, X2):\n",
    "    return np.sin(X1)@np.sin(X2).T + X1@X2.T"
   ]
  },
  {
   "cell_type": "code",
   "execution_count": null,
   "metadata": {
    "slideshow": {
     "slide_type": "subslide"
    }
   },
   "outputs": [],
   "source": [
    "model = SVR(kernel=kernel)\n",
    "_ = model.fit(X_train, Y_train)"
   ]
  },
  {
   "cell_type": "code",
   "execution_count": null,
   "metadata": {
    "slideshow": {
     "slide_type": "subslide"
    }
   },
   "outputs": [],
   "source": [
    "plt.plot(x, Y, '.', label='points')\n",
    "plt.plot(x, Y_without_noise, label='real')\n",
    "plt.plot(x, model.predict(X), label='predict')\n",
    "\n",
    "plt.legend(loc='best')\n",
    "plt.show()"
   ]
  },
  {
   "cell_type": "markdown",
   "metadata": {
    "slideshow": {
     "slide_type": "slide"
    }
   },
   "source": [
    "## SVM Feature"
   ]
  },
  {
   "cell_type": "code",
   "execution_count": null,
   "metadata": {
    "slideshow": {
     "slide_type": "subslide"
    }
   },
   "outputs": [],
   "source": [
    "X, Y = make_classification(n_samples=2500, n_features=10, \n",
    "                           n_informative=2, n_classes=2, \n",
    "                           n_redundant=0,\n",
    "                           n_clusters_per_class=1,\n",
    "                           random_state=10)\n",
    "\n",
    "X_train, X_test, Y_train, Y_test = train_test_split(X, Y, \n",
    "                                                    test_size=500, \n",
    "                                                    random_state=0)\n",
    "\n"
   ]
  },
  {
   "cell_type": "code",
   "execution_count": null,
   "metadata": {
    "slideshow": {
     "slide_type": "subslide"
    }
   },
   "outputs": [],
   "source": [
    "def kernel(X1, X2):\n",
    "    return np.exp(-0.05*cdist(X1, X2)**2)"
   ]
  },
  {
   "cell_type": "code",
   "execution_count": null,
   "metadata": {
    "scrolled": true,
    "slideshow": {
     "slide_type": "subslide"
    }
   },
   "outputs": [],
   "source": [
    "model = SVC(kernel='rbf')\n",
    "_ = model.fit(X_train, Y_train)\n",
    "model.score(X_test, Y_test)"
   ]
  },
  {
   "cell_type": "code",
   "execution_count": null,
   "metadata": {
    "slideshow": {
     "slide_type": "subslide"
    }
   },
   "outputs": [],
   "source": [
    "X_train_new = np.hstack([kernel(X_train, X_train[model.support_]), X_train])\n",
    "X_test_new = np.hstack([kernel(X_test, X_train[model.support_]), X_test])"
   ]
  },
  {
   "cell_type": "code",
   "execution_count": null,
   "metadata": {
    "slideshow": {
     "slide_type": "subslide"
    }
   },
   "outputs": [],
   "source": [
    "model = SVC(kernel='rbf')\n",
    "_ = model.fit(X_train_new, Y_train)\n",
    "model.score(X_test_new, Y_test)"
   ]
  }
 ],
 "metadata": {
  "celltoolbar": "Slideshow",
  "kernelspec": {
   "display_name": "Python 3",
   "language": "python",
   "name": "python3"
  },
  "language_info": {
   "codemirror_mode": {
    "name": "ipython",
    "version": 3
   },
   "file_extension": ".py",
   "mimetype": "text/x-python",
   "name": "python",
   "nbconvert_exporter": "python",
   "pygments_lexer": "ipython3",
   "version": "3.9.2"
  }
 },
 "nbformat": 4,
 "nbformat_minor": 4
}
